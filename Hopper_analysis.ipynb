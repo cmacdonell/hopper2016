{
 "cells": [
  {
   "cell_type": "code",
   "execution_count": 178,
   "metadata": {
    "collapsed": true
   },
   "outputs": [],
   "source": [
    "import pandas as pd\n",
    "import numpy as np\n",
    "import matplotlib.pyplot as plt\n",
    "\n",
    "\n",
    "%matplotlib inline  \n"
   ]
  },
  {
   "cell_type": "code",
   "execution_count": 567,
   "metadata": {
    "collapsed": true
   },
   "outputs": [],
   "source": [
    "# create a data frame of the matched data\n",
    "df_matched = pd.read_csv(\"matched_data.csv\")\n",
    "df_matched = df_matched.replace('DK',np.nan)\n",
    "\n",
    "df_all = pd.read_excel(\"Hopper 2016 - analysis.xls\")\n",
    "df_all = df_all.replace('DK',np.nan)\n"
   ]
  },
  {
   "cell_type": "code",
   "execution_count": 535,
   "metadata": {
    "collapsed": true
   },
   "outputs": [],
   "source": [
    "oldwidth=pd.get_option('display.max_colwidth') # show the full width of SA2 column\n",
    "pd.set_option('display.max_colwidth', -1)"
   ]
  },
  {
   "cell_type": "markdown",
   "metadata": {
    "collapsed": true
   },
   "source": [
    "# Analysis of pre-survey interests\n",
    "\n",
    "### Here we will examine the interest in humanitarian issues versus CS skill development"
   ]
  },
  {
   "cell_type": "code",
   "execution_count": 529,
   "metadata": {},
   "outputs": [
    {
     "name": "stdout",
     "output_type": "stream",
     "text": [
      "Total non-empty answers: 74\n",
      "How many mentioned a word related to helping: 23\n"
     ]
    }
   ],
   "source": [
    "SA1_answers = df_all['SA1.'].dropna() # grab the non-empty SA1 answers\n",
    "print(\"Total non-empty answers:\", len(SA1_answers))\n",
    "print(\"How many mentioned a word related to helping:\", sum(SA1_answers.str.contains('help|human|soci|change|meaning|giving|good|give')))"
   ]
  },
  {
   "cell_type": "markdown",
   "metadata": {},
   "source": [
    "How many mentioned skill development?"
   ]
  },
  {
   "cell_type": "code",
   "execution_count": 530,
   "metadata": {},
   "outputs": [
    {
     "name": "stdout",
     "output_type": "stream",
     "text": [
      "How many mentioned a word related to skill development: 27\n"
     ]
    }
   ],
   "source": [
    "print(\"How many mentioned a word related to skill development:\", sum(SA1_answers.str.contains('skill|learn|improve|gain')))"
   ]
  },
  {
   "cell_type": "code",
   "execution_count": 543,
   "metadata": {},
   "outputs": [
    {
     "name": "stdout",
     "output_type": "stream",
     "text": [
      "How many mentioned a word related to skill development: 19\n"
     ]
    },
    {
     "data": {
      "text/plain": [
       "9      More about benefit of open source                                                                                                                                                                                                           \n",
       "13     How to do open source stuff.                                                                                                                                                                                                                \n",
       "17     Get exposed to some idea and open source tools                                                                                                                                                                                              \n",
       "21     Group work and what is the role of open source/computing in improving….                                                                                                                                                                     \n",
       "23     I teach computing at GA Tech. I would like to inspire my students to contribute to open source projects.                                                                                                                                    \n",
       "25     How open source works                                                                                                                                                                                                                       \n",
       "32     I want to have more experience in coding, learning more humanitarian open source                                                                                                                                                            \n",
       "41     Want to gain familiarity with open source workflow                                                                                                                                                                                          \n",
       "56     I want to learn more about open source and how to develop code good enough to contribute to it.                                                                                                                                             \n",
       "61     Will learn a new technology (maybe), haven’t done open source dev earlier                                                                                                                                                                   \n",
       "68     Both about open source work as well as about the people we are working with                                                                                                                                                                 \n",
       "78     IA lot about open source in general because I don’t really know anything                                                                                                                                                                    \n",
       "82     Learning more about open source and how I can continue contributing beyond GHC                                                                                                                                                              \n",
       "92     I want to learn more about open source, how I can contribute, how open source can benefit others, and if I’d like to spend more time contributing to open source. I also want to know if I have enough skills to contribute to open source. \n",
       "97     How to apply my abilities to open source development for good causes. Learning new tools and technologies.                                                                                                                                  \n",
       "98     I want to learn and be confident to actually contribute to open source projects in the future.                                                                                                                                              \n",
       "100    More about open source                                                                                                                                                                                                                      \n",
       "105    How open source projects are structured and how to contribute to them in the future.                                                                                                                                                        \n",
       "109    Meeting new women and contributing little bit open source project                                                                                                                                                                           \n",
       "Name: SA1., dtype: object"
      ]
     },
     "execution_count": 543,
     "metadata": {},
     "output_type": "execute_result"
    }
   ],
   "source": [
    "print(\"How many mentioned a word related to skill development:\", sum(SA1_answers.str.contains('open.source')))\n",
    "SA1_answers[SA1_answers.str.contains('open source')]"
   ]
  },
  {
   "cell_type": "markdown",
   "metadata": {},
   "source": [
    "### Graph of Programming Ability"
   ]
  },
  {
   "cell_type": "code",
   "execution_count": 597,
   "metadata": {},
   "outputs": [
    {
     "data": {
      "image/png": "[encoded data removed]",
      "text/plain": [
       "<matplotlib.figure.Figure at 0x1de477d0860>"
      ]
     },
     "metadata": {},
     "output_type": "display_data"
    }
   ],
   "source": [
    "prog_ability = df_all['Prog. Ability'].dropna() # grab the non-empty SA1 answers\n",
    "prog_ability.round().astype(int).value_counts().sort_index().plot(kind=\"bar\",color=\"white\",hatch=\"/\",rot=0)\n",
    "plt.savefig(\"program_ability.png\")"
   ]
  },
  {
   "cell_type": "markdown",
   "metadata": {},
   "source": [
    "### Graph of Years of Experience"
   ]
  },
  {
   "cell_type": "code",
   "execution_count": 605,
   "metadata": {},
   "outputs": [
    {
     "data": {
      "image/png": "[encoded data removed]",
      "text/plain": [
       "<matplotlib.figure.Figure at 0x1de47abe160>"
      ]
     },
     "metadata": {},
     "output_type": "display_data"
    }
   ],
   "source": [
    "mths_exp = df_all['Months experience'].dropna() # grab the non-empty Months exp\n",
    "years_exp = mths_exp/12\n",
    "filter_vals = [0,1,2,3,9,100]\n",
    "out = pd.cut(years_exp, bins=filter_vals)\n",
    "counts = pd.value_counts(out)\n",
    "counts = counts.reindex(out.cat.categories)\n",
    "ax = counts.plot(kind=\"bar\",color=\"white\",hatch=\"/\",rot=0)\n",
    "#ax.set_xticklabels([\"1 year or less\",\"1-2 years\",\"2-3 years\",\"3-9 years\",\"> 10 years\"])\n",
    "plt.savefig(\"years_exp.png\")"
   ]
  },
  {
   "cell_type": "markdown",
   "metadata": {},
   "source": [
    "# Analysis by Origin"
   ]
  },
  {
   "cell_type": "markdown",
   "metadata": {},
   "source": [
    "**Pre-survey results** recreation of graph by Lori\n",
    "\n",
    "This analysis is being done on the origin unmatched data"
   ]
  },
  {
   "cell_type": "code",
   "execution_count": 183,
   "metadata": {},
   "outputs": [
    {
     "data": {
      "text/plain": [
       "(0, 5.5)"
      ]
     },
     "execution_count": 183,
     "metadata": {},
     "output_type": "execute_result"
    },
    {
     "data": {
      "image/png": "[encoded data removed]",
      "text/plain": [
       "<matplotlib.figure.Figure at 0x1de41bb2400>"
      ]
     },
     "metadata": {},
     "output_type": "display_data"
    }
   ],
   "source": [
    "\n",
    "pre_survey_race = df_all[['Origin','H1pre','H2pre','H3pre','H4pre','H5pre','H6pre']]\n",
    "means_pre = pre_survey_race.groupby('Origin').mean()\n",
    "tp = means_pre.transpose()\n",
    "\n",
    "ax = tp.plot.line(style=['s-k','o-k','^-k','d-k'])\n",
    "\n",
    "\n",
    "ax.set_ylim([0,5.5])\n"
   ]
  },
  {
   "cell_type": "markdown",
   "metadata": {},
   "source": [
    "**Post-survey results** recreation of graph by Lori"
   ]
  },
  {
   "cell_type": "code",
   "execution_count": 184,
   "metadata": {},
   "outputs": [
    {
     "data": {
      "text/plain": [
       "(0, 5.5)"
      ]
     },
     "execution_count": 184,
     "metadata": {},
     "output_type": "execute_result"
    },
    {
     "data": {
      "image/png": "[encoded data removed]",
      "text/plain": [
       "<matplotlib.figure.Figure at 0x1de4383c160>"
      ]
     },
     "metadata": {},
     "output_type": "display_data"
    }
   ],
   "source": [
    "#print(list(df_all))\n",
    "post_survey_race = df_all[['Origin','H1post','H2post','H3post','H4post','H5post','H6post']]\n",
    "post_survey_race = post_survey_race.replace('DK',np.nan)\n",
    "#pre_survey_racea\n",
    "means_post = post_survey_race.groupby('Origin').mean()\n",
    "means_post = means_post.replace(np.nan,5.0) # Handle the one NaN entry\n",
    "tp = means_post.transpose()\n",
    "ax = tp.plot.line(style=['s-k','o-k','^-k','d-k'])\n",
    "ax.set_ylim([0,5.5])"
   ]
  },
  {
   "cell_type": "markdown",
   "metadata": {},
   "source": [
    "# Recreating Lori's t-test across All and Matched Data\n",
    "\n",
    "Below, I recreate Lori's t-test result. This looks for general changes across the Likert questions. The tables confirm close similarity to Lori's analysis (hooray!) and that comparing all respondents we only see significant change in H3 and with matched data we see no significance."
   ]
  },
  {
   "cell_type": "code",
   "execution_count": 272,
   "metadata": {},
   "outputs": [
    {
     "name": "stdout",
     "output_type": "stream",
     "text": [
      "All Data (Table 5 in paper)\n",
      "H1 0.043, 0.770 (N=111 (pre),65 (post)) \n",
      "H2 0.147, 0.377 (N=109 (pre),64 (post)) \n",
      "H3 0.443, 0.026 (N=96 (pre),57 (post))  <-- significant\n",
      "H4 0.162, 0.395 (N=99 (pre),55 (post)) \n",
      "H5 0.019, 0.898 (N=112 (pre),65 (post)) \n",
      "H6 0.053, 0.749 (N=105 (pre),64 (post)) \n",
      "\n",
      "Matched Data (Table 6 in paper)\n",
      "H1 -0.152, 0.212 (N=46 (pre),46 (post)) \n",
      "H2 -0.136, 0.323 (N=44 (pre),44 (post)) \n",
      "H3 0.079, 0.653 (N=38 (pre),38 (post)) \n",
      "H4 0.026, 0.872 (N=38 (pre),38 (post)) \n",
      "H5 -0.089, 0.323 (N=45 (pre),45 (post)) \n",
      "H6 -0.122, 0.482 (N=41 (pre),41 (post)) \n"
     ]
    }
   ],
   "source": [
    "print(\"All Data (Table 5 in paper)\")\n",
    "for i in range(1,7):\n",
    "    num = str(i)\n",
    "    df_H = df_all[['Origin','H'+ num +'pre','H'+ num +'post']]\n",
    "\n",
    "    H_pre = df_H['H'+ num +'pre'].dropna()\n",
    "    H_post = df_H['H'+ num +'post'].dropna()\n",
    "    diff = H_post.mean() - H_pre.mean()\n",
    "    p_value = ttest_ind(H_pre, H_post)[1]\n",
    "    print(\"H\"+ num, \"%.3f, %.3f (N=%d (pre),%d (post))\" % (diff,p_value,H_pre.count(),H_post.count()), end=\" \") # pvalue\n",
    "    if abs(diff) > p_value:\n",
    "        print(\" <-- significant\")\n",
    "    else:\n",
    "        print()\n",
    "        \n",
    "        \n",
    "print(\"\\nMatched Data (Table 6 in paper)\")\n",
    "for i in range(1,7):\n",
    "    num = str(i)\n",
    "    df_H = df_matched[['Origin','H'+ num +'pre','H'+ num +'post']].dropna()\n",
    "\n",
    "    H_pre = df_H['H'+ num +'pre']\n",
    "    H_post = df_H['H'+ num +'post']\n",
    "    diff = H_post.mean() - H_pre.mean()\n",
    "    p_value = ttest_rel(H_pre, H_post)[1]\n",
    "    print(\"H\"+ num, \"%.3f, %.3f (N=%d (pre),%d (post))\" % (diff,p_value,H_pre.count(),H_post.count()), end=\" \") # pvalue\n",
    "    if abs(diff) > p_value:\n",
    "        print(\" <-- significant\")\n",
    "    else:\n",
    "        print()"
   ]
  },
  {
   "cell_type": "markdown",
   "metadata": {},
   "source": [
    "# Significant Likert changes by Race\n",
    "\n",
    "We only notified a significant change by in H3 across all respondents. However, if we breakdown the responses by race/origin we see that there were numerous significant changes."
   ]
  },
  {
   "cell_type": "code",
   "execution_count": 257,
   "metadata": {},
   "outputs": [
    {
     "data": {
      "text/html": [
       "<div>\n",
       "<table border=\"1\" class=\"dataframe\">\n",
       "  <thead>\n",
       "    <tr style=\"text-align: right;\">\n",
       "      <th></th>\n",
       "      <th>ID</th>\n",
       "    </tr>\n",
       "    <tr>\n",
       "      <th>Origin</th>\n",
       "      <th></th>\n",
       "    </tr>\n",
       "  </thead>\n",
       "  <tbody>\n",
       "    <tr>\n",
       "      <th>Asian or Pacific Islander</th>\n",
       "      <td>71</td>\n",
       "    </tr>\n",
       "    <tr>\n",
       "      <th>Black, not Hispanic</th>\n",
       "      <td>2</td>\n",
       "    </tr>\n",
       "    <tr>\n",
       "      <th>Hispanic</th>\n",
       "      <td>10</td>\n",
       "    </tr>\n",
       "    <tr>\n",
       "      <th>White, not Hispanic</th>\n",
       "      <td>32</td>\n",
       "    </tr>\n",
       "  </tbody>\n",
       "</table>\n",
       "</div>"
      ],
      "text/plain": [
       "                           ID\n",
       "Origin                       \n",
       "Asian or Pacific Islander  71\n",
       "Black, not Hispanic         2\n",
       "Hispanic                   10\n",
       "White, not Hispanic        32"
      ]
     },
     "execution_count": 257,
     "metadata": {},
     "output_type": "execute_result"
    }
   ],
   "source": [
    "# These are how many respondents entered their Origin/Race, but they may have left Likert questions blank resulting in lower N values below\n",
    "\n",
    "df_all[['ID','Origin']].groupby('Origin').count()"
   ]
  },
  {
   "cell_type": "code",
   "execution_count": 262,
   "metadata": {},
   "outputs": [
    {
     "name": "stdout",
     "output_type": "stream",
     "text": [
      "Analyzing: White, not Hispanic\n",
      "H1 -0.248, 0.318 (N=31 (pre),19 (post)) \n",
      "H2 -0.362, 0.163 (N=31 (pre),19 (post))  <-- significant\n",
      "H3 0.105, 0.758 (N=28 (pre),17 (post)) \n",
      "H4 -0.527, 0.043 (N=27 (pre),17 (post))  <-- significant\n",
      "H5 -0.025, 0.911 (N=32 (pre),20 (post)) \n",
      "H6 -0.067, 0.765 (N=30 (pre),20 (post)) \n",
      "\n",
      "Analyzing: Hispanic\n",
      "H1 0.657, 0.360 (N=7 (pre),5 (post))  <-- significant\n",
      "H2 1.229, 0.090 (N=7 (pre),5 (post))  <-- significant\n",
      "H3 0.917, 0.396 (N=6 (pre),4 (post))  <-- significant\n",
      "H4 1.100, 0.287 (N=5 (pre),4 (post))  <-- significant\n",
      "H5 0.238, 0.721 (N=7 (pre),6 (post)) \n",
      "H6 0.400, 0.614 (N=5 (pre),5 (post)) \n",
      "\n",
      "Analyzing: Asian or Pacific Islander\n",
      "H1 0.144, 0.483 (N=70 (pre),34 (post)) \n",
      "H2 0.249, 0.294 (N=69 (pre),33 (post)) \n",
      "H3 0.572, 0.037 (N=60 (pre),29 (post))  <-- significant\n",
      "H4 0.393, 0.146 (N=65 (pre),28 (post))  <-- significant\n",
      "H5 -0.011, 0.961 (N=70 (pre),32 (post)) \n",
      "H6 0.094, 0.697 (N=67 (pre),32 (post)) \n",
      "\n"
     ]
    }
   ],
   "source": [
    "from scipy.stats import ttest_ind\n",
    "\n",
    "for race in [\"White, not Hispanic\", \"Hispanic\", \"Asian or Pacific Islander\"]:\n",
    "    print(\"Analyzing:\", race)\n",
    "    for i in range(1,7):\n",
    "        num = str(i)\n",
    "        df_H = df_all[['Origin','H'+ num +'pre','H'+ num +'post']]\n",
    "\n",
    "        H_pre = df_H['H'+ num +'pre'][df_H['Origin'] == race].dropna()\n",
    "        H_post = df_H['H'+ num +'post'][df_H1['Origin'] == race].dropna()\n",
    "        diff = H_post.mean() - H_pre.mean()\n",
    "        p_value = ttest_ind(H_pre, H_post)[1]\n",
    "        print(\"H\"+ num, \"%.3f, %.3f (N=%d (pre),%d (post))\" % (diff,p_value,H_pre.count(),H_post.count()), end=\" \") # pvalue\n",
    "        if abs(diff) > p_value:\n",
    "            print(\" <-- significant\")\n",
    "        else:\n",
    "            print()\n",
    "    print()"
   ]
  },
  {
   "cell_type": "code",
   "execution_count": 278,
   "metadata": {},
   "outputs": [
    {
     "name": "stdout",
     "output_type": "stream",
     "text": [
      "Analyzing: White, not Hispanic\n",
      "H1 -0.248, 0.318 (N=31 (pre),19 (post)) \n",
      "H2 -0.362, 0.163 (N=31 (pre),19 (post))  <-- significant\n",
      "H3 0.105, 0.758 (N=28 (pre),17 (post)) \n",
      "H4 -0.527, 0.043 (N=27 (pre),17 (post))  <-- significant\n",
      "H5 -0.025, 0.911 (N=32 (pre),20 (post)) \n",
      "H6 -0.067, 0.765 (N=30 (pre),20 (post)) \n",
      "\n",
      "Analyzing: Hispanic\n",
      "H1 0.657, 0.360 (N=7 (pre),5 (post))  <-- significant\n",
      "H2 1.229, 0.090 (N=7 (pre),5 (post))  <-- significant\n",
      "H3 0.917, 0.396 (N=6 (pre),4 (post))  <-- significant\n",
      "H4 1.100, 0.287 (N=5 (pre),4 (post))  <-- significant\n",
      "H5 0.238, 0.721 (N=7 (pre),6 (post)) \n",
      "H6 0.400, 0.614 (N=5 (pre),5 (post)) \n",
      "\n",
      "Analyzing: Asian or Pacific Islander\n",
      "H1 0.144, 0.483 (N=70 (pre),34 (post)) \n",
      "H2 0.249, 0.294 (N=69 (pre),33 (post)) \n",
      "H3 0.572, 0.037 (N=60 (pre),29 (post))  <-- significant\n",
      "H4 0.393, 0.146 (N=65 (pre),28 (post))  <-- significant\n",
      "H5 -0.011, 0.961 (N=70 (pre),32 (post)) \n",
      "H6 0.094, 0.697 (N=67 (pre),32 (post)) \n",
      "\n"
     ]
    }
   ],
   "source": [
    "for race in [\"White, not Hispanic\", \"Hispanic\", \"Asian or Pacific Islander\"]:\n",
    "    print(\"Analyzing:\", race)\n",
    "    for i in range(1,7):\n",
    "        num = str(i)\n",
    "        df_H = df_all[['Origin','H'+ num +'pre','H'+ num +'post']]\n",
    "\n",
    "        H_pre = df_H['H'+ num +'pre'][df_H['Origin'] == race].dropna()\n",
    "        H_post = df_H['H'+ num +'post'][df_H1['Origin'] == race].dropna()\n",
    "        diff = H_post.mean() - H_pre.mean()\n",
    "        p_value = ttest_ind(H_pre, H_post)[1]\n",
    "        print(\"H\"+ num, \"%.3f, %.3f (N=%d (pre),%d (post))\" % (diff,p_value,H_pre.count(),H_post.count()), end=\" \") # pvalue\n",
    "        if abs(diff) > p_value:\n",
    "            print(\" <-- significant\")\n",
    "        else:\n",
    "            print()\n",
    "    print()"
   ]
  },
  {
   "cell_type": "code",
   "execution_count": 482,
   "metadata": {},
   "outputs": [
    {
     "name": "stdout",
     "output_type": "stream",
     "text": [
      "                           H1pre  H1post\n",
      "Origin                                  \n",
      "Asian or Pacific Islander   4.39    4.53\n",
      "Black, not Hispanic         5.00    5.00\n",
      "Hispanic                    4.14    4.80\n",
      "White, not Hispanic         4.77    4.53\n",
      "                           H2pre  H2post\n",
      "Origin                                  \n",
      "Asian or Pacific Islander   4.14    4.39\n",
      "Black, not Hispanic         5.00    5.00\n",
      "Hispanic                    3.57    4.80\n",
      "White, not Hispanic         4.68    4.32\n",
      "                           H3pre  H3post\n",
      "Origin                                  \n",
      "Asian or Pacific Islander   3.60    4.17\n",
      "Black, not Hispanic         5.00    5.00\n",
      "Hispanic                    3.33    4.25\n",
      "White, not Hispanic         4.07    4.18\n",
      "                           H4pre  H4post\n",
      "Origin                                  \n",
      "Asian or Pacific Islander   3.89    4.29\n",
      "Black, not Hispanic         5.00     NaN\n",
      "Hispanic                    3.40    4.50\n",
      "White, not Hispanic         4.70    4.18\n",
      "                           H5pre  H5post\n",
      "Origin                                  \n",
      "Asian or Pacific Islander   4.39    4.38\n",
      "Black, not Hispanic         5.00    5.00\n",
      "Hispanic                    4.43    4.67\n",
      "White, not Hispanic         4.62    4.60\n",
      "                           H6pre  H6post\n",
      "Origin                                  \n",
      "Asian or Pacific Islander   4.00    4.09\n",
      "Black, not Hispanic         5.00    5.00\n",
      "Hispanic                    3.80    4.20\n",
      "White, not Hispanic         4.57    4.50\n"
     ]
    }
   ],
   "source": [
    "df_list = list()\n",
    "pd.set_option('precision', 2)\n",
    "\n",
    "for i in range(1,7):\n",
    "    num = str(i)\n",
    "    print(df_all[['Origin','H' + num + 'pre','H' + num + 'post']].groupby('Origin').mean())"
   ]
  },
  {
   "cell_type": "markdown",
   "metadata": {},
   "source": [
    "## Analyzing matched data changes by race\n",
    "\n",
    "We see more significant results when looking at the matched data. We lose our significance with Hispanic because we only have 3 matched hispanic respondents.\n",
    "\n",
    "Note that this data is matched, so N is the same pre/post"
   ]
  },
  {
   "cell_type": "code",
   "execution_count": 259,
   "metadata": {},
   "outputs": [
    {
     "data": {
      "text/html": [
       "<div>\n",
       "<table border=\"1\" class=\"dataframe\">\n",
       "  <thead>\n",
       "    <tr style=\"text-align: right;\">\n",
       "      <th></th>\n",
       "      <th>ID</th>\n",
       "    </tr>\n",
       "    <tr>\n",
       "      <th>Origin</th>\n",
       "      <th></th>\n",
       "    </tr>\n",
       "  </thead>\n",
       "  <tbody>\n",
       "    <tr>\n",
       "      <th>Asian or Pacific Islander</th>\n",
       "      <td>25</td>\n",
       "    </tr>\n",
       "    <tr>\n",
       "      <th>Black, not Hispanic</th>\n",
       "      <td>1</td>\n",
       "    </tr>\n",
       "    <tr>\n",
       "      <th>Hispanic</th>\n",
       "      <td>3</td>\n",
       "    </tr>\n",
       "    <tr>\n",
       "      <th>White, not Hispanic</th>\n",
       "      <td>18</td>\n",
       "    </tr>\n",
       "  </tbody>\n",
       "</table>\n",
       "</div>"
      ],
      "text/plain": [
       "                           ID\n",
       "Origin                       \n",
       "Asian or Pacific Islander  25\n",
       "Black, not Hispanic         1\n",
       "Hispanic                    3\n",
       "White, not Hispanic        18"
      ]
     },
     "execution_count": 259,
     "metadata": {},
     "output_type": "execute_result"
    }
   ],
   "source": [
    "# These are how many respondents entered their Origin/Race, but they may have left Likert questions blank resulting in lower N values below\n",
    "\n",
    "df_matched[['ID','Origin']].groupby('Origin').count()"
   ]
  },
  {
   "cell_type": "code",
   "execution_count": 253,
   "metadata": {},
   "outputs": [
    {
     "name": "stdout",
     "output_type": "stream",
     "text": [
      "Analyzing: White, not Hispanic\n",
      "H1 -0.412, 0.130 (N=17) <-- significant\n",
      "H2 -0.471, 0.072 (N=17) <-- significant\n",
      "H3 -0.067, 0.860 (N=15) \n",
      "H4 -0.438, 0.110 (N=16) <-- significant\n",
      "H5 -0.167, 0.187 (N=18) \n",
      "H6 -0.059, 0.854 (N=17) \n",
      "\n",
      "Analyzing: Hispanic\n",
      "H1 0.000, nan (N=3) \n",
      "H2 0.000, nan (N=3) \n",
      "H3 0.000, nan (N=2) \n",
      "H4 0.000, nan (N=1) \n",
      "H5 -0.333, 0.423 (N=3) \n",
      "H6 0.000, nan (N=1) \n",
      "\n",
      "Analyzing: Asian or Pacific Islander\n",
      "H1 0.000, 1.000 (N=25) \n",
      "H2 0.083, 0.627 (N=24) \n",
      "H3 0.190, 0.296 (N=21) \n",
      "H4 0.381, 0.057 (N=21) <-- significant\n",
      "H5 0.000, 1.000 (N=23) \n",
      "H6 -0.182, 0.406 (N=22) \n",
      "\n"
     ]
    },
    {
     "name": "stderr",
     "output_type": "stream",
     "text": [
      "C:\\Users\\cam\\Anaconda3\\lib\\site-packages\\numpy\\core\\_methods.py:82: RuntimeWarning: Degrees of freedom <= 0 for slice\n",
      "  warnings.warn(\"Degrees of freedom <= 0 for slice\", RuntimeWarning)\n"
     ]
    }
   ],
   "source": [
    "from scipy.stats import ttest_ind\n",
    "\n",
    "for race in [\"White, not Hispanic\", \"Hispanic\", \"Asian or Pacific Islander\"]:\n",
    "    print(\"Analyzing:\", race)\n",
    "    for i in range(1,7):\n",
    "        num = str(i)\n",
    "        df_H = df_matched[['Origin','H'+ num +'pre','H'+ num +'post']].dropna()\n",
    "\n",
    "        H_pre = df_H['H'+ num +'pre'][df_H['Origin'] == race]\n",
    "        H_post = df_H['H'+ num +'post'][df_H['Origin'] == race]\n",
    "        diff = H_post.mean() - H_pre.mean()\n",
    "        p_value = ttest_rel(H_pre, H_post)[1]\n",
    "        print(\"H\"+ num, \"%.3f, %.3f (N=%d)\" % (diff,p_value,H_pre.count()), end=\" \") # pvalue\n",
    "        if abs(diff) > p_value:\n",
    "            print(\"<-- significant\")\n",
    "        else:\n",
    "            print()\n",
    "    print()"
   ]
  },
  {
   "cell_type": "code",
   "execution_count": 273,
   "metadata": {},
   "outputs": [
    {
     "name": "stdout",
     "output_type": "stream",
     "text": [
      "Analyzing: White, not Hispanic\n",
      "H1 -0.412, 0.130 (N=17) <-- significant\n",
      "H2 -0.471, 0.072 (N=17) <-- significant\n",
      "H3 -0.067, 0.860 (N=15) \n",
      "H4 -0.438, 0.110 (N=16) <-- significant\n",
      "H5 -0.167, 0.187 (N=18) \n",
      "H6 -0.059, 0.854 (N=17) \n",
      "\n",
      "Analyzing: Hispanic\n",
      "H1 0.000, nan (N=3) \n",
      "H2 0.000, nan (N=3) \n",
      "H3 0.000, nan (N=2) \n",
      "H4 0.000, nan (N=1) \n",
      "H5 -0.333, 0.423 (N=3) \n",
      "H6 0.000, nan (N=1) \n",
      "\n",
      "Analyzing: Asian or Pacific Islander\n",
      "H1 0.000, 1.000 (N=25) \n",
      "H2 0.083, 0.627 (N=24) \n",
      "H3 0.190, 0.296 (N=21) \n",
      "H4 0.381, 0.057 (N=21) <-- significant\n",
      "H5 0.000, 1.000 (N=23) \n",
      "H6 -0.182, 0.406 (N=22) \n",
      "\n"
     ]
    },
    {
     "name": "stderr",
     "output_type": "stream",
     "text": [
      "C:\\Users\\cam\\Anaconda3\\lib\\site-packages\\numpy\\core\\_methods.py:82: RuntimeWarning: Degrees of freedom <= 0 for slice\n",
      "  warnings.warn(\"Degrees of freedom <= 0 for slice\", RuntimeWarning)\n"
     ]
    }
   ],
   "source": [
    "for race in [\"White, not Hispanic\", \"Hispanic\", \"Asian or Pacific Islander\"]:\n",
    "    print(\"Analyzing:\", race)\n",
    "    for i in range(1,7):\n",
    "        num = str(i)\n",
    "        df_H = df_matched[['Origin','H'+ num +'pre','H'+ num +'post']].dropna()\n",
    "\n",
    "        H_pre = df_H['H'+ num +'pre'][df_H['Origin'] == race]\n",
    "        H_post = df_H['H'+ num +'post'][df_H['Origin'] == race]\n",
    "        diff = H_post.mean() - H_pre.mean()\n",
    "        p_value = ttest_rel(H_pre, H_post)[1]\n",
    "        print(\"H\"+ num, \"%.3f, %.3f (N=%d)\" % (diff,p_value,H_pre.count()), end=\" \") # pvalue\n",
    "        if abs(diff) > p_value:\n",
    "            print(\"<-- significant\")\n",
    "        else:\n",
    "            print()\n",
    "    print()"
   ]
  },
  {
   "cell_type": "markdown",
   "metadata": {},
   "source": [
    "# Significant Likert changes by Age\n",
    "\n",
    "We only notified a significant change by in H3 across all respondents. However, if we breakdown the responses by age..."
   ]
  },
  {
   "cell_type": "code",
   "execution_count": 260,
   "metadata": {},
   "outputs": [
    {
     "data": {
      "text/html": [
       "<div>\n",
       "<table border=\"1\" class=\"dataframe\">\n",
       "  <thead>\n",
       "    <tr style=\"text-align: right;\">\n",
       "      <th></th>\n",
       "      <th>ID</th>\n",
       "    </tr>\n",
       "    <tr>\n",
       "      <th>Age</th>\n",
       "      <th></th>\n",
       "    </tr>\n",
       "  </thead>\n",
       "  <tbody>\n",
       "    <tr>\n",
       "      <th>18-19</th>\n",
       "      <td>10</td>\n",
       "    </tr>\n",
       "    <tr>\n",
       "      <th>20-21</th>\n",
       "      <td>30</td>\n",
       "    </tr>\n",
       "    <tr>\n",
       "      <th>22-23</th>\n",
       "      <td>10</td>\n",
       "    </tr>\n",
       "    <tr>\n",
       "      <th>&gt; 24</th>\n",
       "      <td>66</td>\n",
       "    </tr>\n",
       "  </tbody>\n",
       "</table>\n",
       "</div>"
      ],
      "text/plain": [
       "       ID\n",
       "Age      \n",
       "18-19  10\n",
       "20-21  30\n",
       "22-23  10\n",
       "> 24   66"
      ]
     },
     "execution_count": 260,
     "metadata": {},
     "output_type": "execute_result"
    }
   ],
   "source": [
    "# Counts of respondents by Age\n",
    "\n",
    "# These are how many respondents entered their Age, but they may have left Likert questions blank resulting in lower N values below\n",
    "\n",
    "df_all[['ID','Age']].groupby('Age').count()\n"
   ]
  },
  {
   "cell_type": "code",
   "execution_count": 251,
   "metadata": {},
   "outputs": [
    {
     "name": "stdout",
     "output_type": "stream",
     "text": [
      "Analyzing: 20-21\n",
      "H1 0.163, 0.558 (N=30 (pre),17 (post)) \n",
      "H2 0.308, 0.288 (N=29 (pre),17 (post))  <-- significant\n",
      "H3 0.714, 0.063 (N=28 (pre),16 (post))  <-- significant\n",
      "H4 0.413, 0.205 (N=26 (pre),16 (post))  <-- significant\n",
      "H5 0.255, 0.345 (N=30 (pre),17 (post)) \n",
      "H6 0.296, 0.380 (N=25 (pre),17 (post)) \n",
      "\n",
      "Analyzing: > 24\n",
      "H1 0.073, 0.712 (N=62 (pre),37 (post)) \n",
      "H2 0.100, 0.663 (N=61 (pre),36 (post)) \n",
      "H3 0.507, 0.060 (N=50 (pre),30 (post))  <-- significant\n",
      "H4 0.132, 0.624 (N=55 (pre),29 (post)) \n",
      "H5 -0.024, 0.903 (N=63 (pre),38 (post)) \n",
      "H6 0.046, 0.826 (N=61 (pre),37 (post)) \n",
      "\n",
      "Analyzing: 22-23\n",
      "H1 -0.533, 0.542 (N=10 (pre),3 (post)) \n",
      "H2 -0.133, 0.894 (N=10 (pre),3 (post)) \n",
      "H3 -0.444, 0.664 (N=9 (pre),3 (post)) \n",
      "H4 -0.111, 0.917 (N=9 (pre),3 (post)) \n",
      "H5 -0.533, 0.596 (N=10 (pre),3 (post)) \n",
      "H6 -0.233, 0.813 (N=10 (pre),3 (post)) \n",
      "\n",
      "Analyzing: 18-19\n",
      "H1 0.111, 0.588 (N=9 (pre),3 (post)) \n",
      "H2 0.111, 0.588 (N=9 (pre),3 (post)) \n",
      "H3 0.111, 0.816 (N=9 (pre),3 (post)) \n",
      "H4 0.111, 0.662 (N=9 (pre),2 (post)) \n",
      "H5 0.111, 0.662 (N=9 (pre),2 (post)) \n",
      "H6 0.333, 0.389 (N=9 (pre),2 (post)) \n",
      "\n",
      "Analyzing: nan\n",
      "H1 nan, nan (N=0 (pre),0 (post)) \n",
      "H2 nan, nan (N=0 (pre),0 (post)) \n",
      "H3 nan, nan (N=0 (pre),0 (post)) \n",
      "H4 nan, nan (N=0 (pre),0 (post)) \n",
      "H5 nan, nan (N=0 (pre),0 (post)) \n",
      "H6 nan, nan (N=0 (pre),0 (post)) \n",
      "\n"
     ]
    }
   ],
   "source": [
    "from scipy.stats import ttest_ind\n",
    "\n",
    "\n",
    "for age in df_all['Age'].unique():\n",
    "    print(\"Analyzing:\", age)\n",
    "    for i in range(1,7):\n",
    "        num = str(i)\n",
    "        df_H = df_all[['Age','H'+ num +'pre','H'+ num +'post']]\n",
    "\n",
    "        H_pre = df_H['H'+ num +'pre'][df_H['Age'] == age].dropna()\n",
    "        H_post = df_H['H'+ num +'post'][df_H['Age'] == age].dropna()\n",
    "        diff = H_post.mean() - H_pre.mean()\n",
    "        p_value = ttest_ind(H_pre, H_post)[1]\n",
    "        print(\"H\"+ num, \"%.3f, %.3f (N=%d (pre),%d (post))\" % (diff,p_value,H_pre.count(),H_post.count()), end=\" \") # pvalue\n",
    "        if abs(diff) > p_value:\n",
    "            print(\" <-- significant\")\n",
    "        else:\n",
    "            print()\n",
    "    print()"
   ]
  },
  {
   "cell_type": "code",
   "execution_count": 483,
   "metadata": {},
   "outputs": [
    {
     "name": "stdout",
     "output_type": "stream",
     "text": [
      "       H1pre  H1post\n",
      "Age                 \n",
      "18-19   4.89    5.00\n",
      "20-21   4.37    4.53\n",
      "22-23   4.20    3.67\n",
      "> 24    4.55    4.62\n",
      "       H2pre  H2post\n",
      "Age                 \n",
      "18-19   4.89    5.00\n",
      "20-21   4.10    4.41\n",
      "22-23   3.80    3.67\n",
      "> 24    4.34    4.44\n",
      "       H3pre  H3post\n",
      "Age                 \n",
      "18-19   4.56    4.67\n",
      "20-21   3.29    4.00\n",
      "22-23   3.78    3.33\n",
      "> 24    3.86    4.37\n",
      "       H4pre  H4post\n",
      "Age                 \n",
      "18-19   4.89    5.00\n",
      "20-21   3.96    4.38\n",
      "22-23   3.78    3.67\n",
      "> 24    4.11    4.24\n",
      "       H5pre  H5post\n",
      "Age                 \n",
      "18-19   4.89    5.00\n",
      "20-21   4.33    4.59\n",
      "22-23   4.20    3.67\n",
      "> 24    4.52    4.50\n",
      "       H6pre  H6post\n",
      "Age                 \n",
      "18-19   4.67    5.00\n",
      "20-21   3.88    4.18\n",
      "22-23   3.90    3.67\n",
      "> 24    4.28    4.32\n"
     ]
    }
   ],
   "source": [
    "df_list = list()\n",
    "pd.set_option('precision', 2)\n",
    "\n",
    "for i in range(1,7):\n",
    "    num = str(i)\n",
    "    print(df_all[['Age','H' + num + 'pre','H' + num + 'post']].groupby('Age').mean())"
   ]
  },
  {
   "cell_type": "markdown",
   "metadata": {},
   "source": [
    "## Looking at matched data by age with a paired t-test"
   ]
  },
  {
   "cell_type": "code",
   "execution_count": 255,
   "metadata": {},
   "outputs": [
    {
     "data": {
      "text/html": [
       "<div>\n",
       "<table border=\"1\" class=\"dataframe\">\n",
       "  <thead>\n",
       "    <tr style=\"text-align: right;\">\n",
       "      <th></th>\n",
       "      <th>ID</th>\n",
       "    </tr>\n",
       "    <tr>\n",
       "      <th>Age</th>\n",
       "      <th></th>\n",
       "    </tr>\n",
       "  </thead>\n",
       "  <tbody>\n",
       "    <tr>\n",
       "      <th>18-19</th>\n",
       "      <td>2</td>\n",
       "    </tr>\n",
       "    <tr>\n",
       "      <th>20-21</th>\n",
       "      <td>13</td>\n",
       "    </tr>\n",
       "    <tr>\n",
       "      <th>22-23</th>\n",
       "      <td>3</td>\n",
       "    </tr>\n",
       "    <tr>\n",
       "      <th>&gt; 24</th>\n",
       "      <td>30</td>\n",
       "    </tr>\n",
       "  </tbody>\n",
       "</table>\n",
       "</div>"
      ],
      "text/plain": [
       "       ID\n",
       "Age      \n",
       "18-19   2\n",
       "20-21  13\n",
       "22-23   3\n",
       "> 24   30"
      ]
     },
     "execution_count": 255,
     "metadata": {},
     "output_type": "execute_result"
    }
   ],
   "source": [
    "# Counts of respondents by Age\n",
    "\n",
    "# These are how many respondents entered their Age, but they may have left Likert questions blank resulting in lower N values below\n",
    "\n",
    "df_matched[['ID','Age']].groupby('Age').count()\n"
   ]
  },
  {
   "cell_type": "code",
   "execution_count": 254,
   "metadata": {},
   "outputs": [
    {
     "name": "stdout",
     "output_type": "stream",
     "text": [
      "Analyzing: 20-21\n",
      "H1 -0.154, 0.337 (N=13) \n",
      "H2 -0.154, 0.337 (N=13) \n",
      "H3 0.083, 0.777 (N=12) \n",
      "H4 0.182, 0.506 (N=11) \n",
      "H5 0.000, 1.000 (N=13) \n",
      "H6 0.000, 1.000 (N=10) \n",
      "\n",
      "Analyzing: > 24\n",
      "H1 -0.172, 0.326 (N=29) \n",
      "H2 -0.185, 0.379 (N=27) \n",
      "H3 0.091, 0.732 (N=22) \n",
      "H4 -0.083, 0.714 (N=24) \n",
      "H5 -0.172, 0.096 (N=29) <-- significant\n",
      "H6 -0.214, 0.352 (N=28) \n",
      "\n",
      "Analyzing: 22-23\n",
      "H1 0.000, 1.000 (N=3) \n",
      "H2 0.333, 0.423 (N=3) \n",
      "H3 0.000, nan (N=3) \n",
      "H4 0.333, 0.423 (N=3) \n",
      "H5 0.333, 0.423 (N=3) \n",
      "H6 0.333, 0.423 (N=3) \n",
      "\n",
      "Analyzing: 18-19\n",
      "H1 0.000, nan (N=2) \n",
      "H2 0.000, nan (N=2) \n",
      "H3 0.000, nan (N=2) \n",
      "H4 0.000, nan (N=1) \n",
      "H5 0.000, nan (N=1) \n",
      "H6 0.000, nan (N=1) \n",
      "\n",
      "Analyzing: nan\n",
      "H1 nan, nan (N=0) \n",
      "H2 nan, nan (N=0) \n",
      "H3 nan, nan (N=0) \n",
      "H4 nan, nan (N=0) \n",
      "H5 nan, nan (N=0) \n",
      "H6 nan, nan (N=0) \n",
      "\n"
     ]
    },
    {
     "name": "stderr",
     "output_type": "stream",
     "text": [
      "C:\\Users\\cam\\Anaconda3\\lib\\site-packages\\numpy\\core\\_methods.py:82: RuntimeWarning: Degrees of freedom <= 0 for slice\n",
      "  warnings.warn(\"Degrees of freedom <= 0 for slice\", RuntimeWarning)\n"
     ]
    }
   ],
   "source": [
    "from scipy.stats import ttest_ind\n",
    "\n",
    "\n",
    "for age in df_all['Age'].unique():\n",
    "    print(\"Analyzing:\", age)\n",
    "    for i in range(1,7):\n",
    "        num = str(i)\n",
    "        df_H = df_matched[['Age','H'+ num +'pre','H'+ num +'post']].dropna()\n",
    "\n",
    "        H_pre = df_H['H'+ num +'pre'][df_H['Age'] == age]\n",
    "        H_post = df_H['H'+ num +'post'][df_H['Age'] == age]\n",
    "        diff = H_post.mean() - H_pre.mean()\n",
    "        p_value = ttest_rel(H_pre, H_post)[1]\n",
    "        print(\"H\"+ num, \"%.3f, %.3f (N=%d)\" % (diff,p_value,H_pre.count()), end=\" \") # pvalue\n",
    "        if abs(diff) > p_value:\n",
    "            print(\"<-- significant\")\n",
    "        else:\n",
    "            print()\n",
    "    print()"
   ]
  },
  {
   "cell_type": "markdown",
   "metadata": {},
   "source": [
    "### Conclusion: Age versus Race breakdown\n",
    "\n",
    "I would say that we are seeing more significant changes based on race than on age. With ages we see the most changes in the younger demographic (20-21) which would represent student in the latter half of their program"
   ]
  },
  {
   "cell_type": "code",
   "execution_count": 207,
   "metadata": {},
   "outputs": [
    {
     "data": {
      "text/plain": [
       "(2, 26)"
      ]
     },
     "execution_count": 207,
     "metadata": {},
     "output_type": "execute_result"
    }
   ],
   "source": [
    "post_survey_race['Origin'][post_survey_race['Origin'] == 'Hispanic'].count()\n",
    "df_all[df_all['Origin']==\"Black, not Hispanic\"].shape"
   ]
  },
  {
   "cell_type": "markdown",
   "metadata": {},
   "source": [
    "**Here are the comments from those with negative H6 changes**"
   ]
  },
  {
   "cell_type": "code",
   "execution_count": 187,
   "metadata": {},
   "outputs": [
    {
     "data": {
      "text/plain": [
       "7     Projects take a lot of work, try something small first                    \n",
       "13    NaN                                                                       \n",
       "23    I learned how to use HEAT for OpenStack                                   \n",
       "26    NaN                                                                       \n",
       "31    NaN                                                                       \n",
       "35    If you don’t konw a lot you can still do a lot                            \n",
       "36    NaN                                                                       \n",
       "41    Collaboration makes for better projects                                   \n",
       "45    NaN                                                                       \n",
       "46    To make sure you have good documentation on any installation/set up steps.\n",
       "Name: SA2, dtype: object"
      ]
     },
     "execution_count": 187,
     "metadata": {},
     "output_type": "execute_result"
    }
   ],
   "source": [
    "df_matched['H6pre'] = pd.to_numeric(df_matched['H6pre'])\n",
    "df_matched['H6post'] = pd.to_numeric(df_matched['H6post'])\n",
    "\n",
    "df_matched['H4pre'] = pd.to_numeric(df_matched['H4pre'])\n",
    "df_matched['H4post'] = pd.to_numeric(df_matched['H4post'])\n",
    "\n",
    "df_matched['SA2'][df_matched['H6post']-df_matched['H6pre'] < 0]"
   ]
  },
  {
   "cell_type": "markdown",
   "metadata": {},
   "source": [
    "**Here are the comments fromm those with negative H5 changes**"
   ]
  },
  {
   "cell_type": "code",
   "execution_count": 188,
   "metadata": {},
   "outputs": [
    {
     "data": {
      "text/plain": [
       "1     Collaboratively/breaking up tasks and asking for help is important.                                                                                                    \n",
       "5     That most people, including professors and professionals are as lost as me sometimes                                                                                   \n",
       "22    Learned new terms, got introduction of a few new platforms which I’ll study now on my own. Good mentors and open stack organizers                                      \n",
       "23    I learned how to use HEAT for OpenStack                                                                                                                                \n",
       "26    NaN                                                                                                                                                                    \n",
       "28    I learned what open source projects are and how to contribute to them. I also learned how humanitarian projects can very positively impact the lives of those in need. \n",
       "41    Collaboration makes for better projects                                                                                                                                \n",
       "45    NaN                                                                                                                                                                    \n",
       "Name: SA2, dtype: object"
      ]
     },
     "execution_count": 188,
     "metadata": {},
     "output_type": "execute_result"
    }
   ],
   "source": [
    "df_matched['SA2'][df_matched['H5post']-df_matched['H5pre'] < 0]"
   ]
  },
  {
   "cell_type": "code",
   "execution_count": 189,
   "metadata": {
    "collapsed": true
   },
   "outputs": [],
   "source": [
    "pd.set_option('display.max_colwidth', oldwidth) # set the display width back to the default value"
   ]
  },
  {
   "cell_type": "code",
   "execution_count": 190,
   "metadata": {
    "collapsed": true
   },
   "outputs": [],
   "source": [
    "post_survey_diff_country = df_matched[['Country','H1Diff','H2Diff','H3Diff','H4Diff','H5Diff','H6Diff']]"
   ]
  },
  {
   "cell_type": "code",
   "execution_count": 191,
   "metadata": {
    "collapsed": true
   },
   "outputs": [],
   "source": [
    "post_survey_diff_country = post_survey_diff_country.replace('#VALUE!', np.nan)"
   ]
  },
  {
   "cell_type": "code",
   "execution_count": 192,
   "metadata": {
    "collapsed": true
   },
   "outputs": [],
   "source": [
    "clean_post_survey_diff = post_survey_diff_country.apply(pd.to_numeric, errors='ignore')"
   ]
  },
  {
   "cell_type": "markdown",
   "metadata": {},
   "source": [
    "**Here are the counts of attendees by country**"
   ]
  },
  {
   "cell_type": "code",
   "execution_count": 193,
   "metadata": {},
   "outputs": [
    {
     "data": {
      "text/html": [
       "<div>\n",
       "<table border=\"1\" class=\"dataframe\">\n",
       "  <thead>\n",
       "    <tr style=\"text-align: right;\">\n",
       "      <th></th>\n",
       "      <th>H1Diff</th>\n",
       "      <th>H2Diff</th>\n",
       "      <th>H3Diff</th>\n",
       "      <th>H4Diff</th>\n",
       "      <th>H5Diff</th>\n",
       "      <th>H6Diff</th>\n",
       "    </tr>\n",
       "    <tr>\n",
       "      <th>Country</th>\n",
       "      <th></th>\n",
       "      <th></th>\n",
       "      <th></th>\n",
       "      <th></th>\n",
       "      <th></th>\n",
       "      <th></th>\n",
       "    </tr>\n",
       "  </thead>\n",
       "  <tbody>\n",
       "    <tr>\n",
       "      <th>Bangladesh</th>\n",
       "      <td>1</td>\n",
       "      <td>1</td>\n",
       "      <td>1</td>\n",
       "      <td>1</td>\n",
       "      <td>1</td>\n",
       "      <td>1</td>\n",
       "    </tr>\n",
       "    <tr>\n",
       "      <th>Brazil</th>\n",
       "      <td>1</td>\n",
       "      <td>1</td>\n",
       "      <td>1</td>\n",
       "      <td>1</td>\n",
       "      <td>1</td>\n",
       "      <td>1</td>\n",
       "    </tr>\n",
       "    <tr>\n",
       "      <th>Canada</th>\n",
       "      <td>1</td>\n",
       "      <td>1</td>\n",
       "      <td>1</td>\n",
       "      <td>1</td>\n",
       "      <td>1</td>\n",
       "      <td>1</td>\n",
       "    </tr>\n",
       "    <tr>\n",
       "      <th>China</th>\n",
       "      <td>3</td>\n",
       "      <td>3</td>\n",
       "      <td>3</td>\n",
       "      <td>3</td>\n",
       "      <td>3</td>\n",
       "      <td>3</td>\n",
       "    </tr>\n",
       "    <tr>\n",
       "      <th>Germany</th>\n",
       "      <td>2</td>\n",
       "      <td>2</td>\n",
       "      <td>2</td>\n",
       "      <td>2</td>\n",
       "      <td>2</td>\n",
       "      <td>2</td>\n",
       "    </tr>\n",
       "    <tr>\n",
       "      <th>Hong Kong</th>\n",
       "      <td>1</td>\n",
       "      <td>1</td>\n",
       "      <td>1</td>\n",
       "      <td>1</td>\n",
       "      <td>1</td>\n",
       "      <td>1</td>\n",
       "    </tr>\n",
       "    <tr>\n",
       "      <th>India</th>\n",
       "      <td>13</td>\n",
       "      <td>12</td>\n",
       "      <td>9</td>\n",
       "      <td>10</td>\n",
       "      <td>12</td>\n",
       "      <td>12</td>\n",
       "    </tr>\n",
       "    <tr>\n",
       "      <th>Mexico</th>\n",
       "      <td>1</td>\n",
       "      <td>1</td>\n",
       "      <td>1</td>\n",
       "      <td>0</td>\n",
       "      <td>1</td>\n",
       "      <td>0</td>\n",
       "    </tr>\n",
       "    <tr>\n",
       "      <th>New Zealand</th>\n",
       "      <td>1</td>\n",
       "      <td>1</td>\n",
       "      <td>1</td>\n",
       "      <td>1</td>\n",
       "      <td>1</td>\n",
       "      <td>1</td>\n",
       "    </tr>\n",
       "    <tr>\n",
       "      <th>Nicaragua</th>\n",
       "      <td>1</td>\n",
       "      <td>1</td>\n",
       "      <td>0</td>\n",
       "      <td>0</td>\n",
       "      <td>1</td>\n",
       "      <td>0</td>\n",
       "    </tr>\n",
       "    <tr>\n",
       "      <th>Nigeria</th>\n",
       "      <td>1</td>\n",
       "      <td>0</td>\n",
       "      <td>0</td>\n",
       "      <td>0</td>\n",
       "      <td>1</td>\n",
       "      <td>1</td>\n",
       "    </tr>\n",
       "    <tr>\n",
       "      <th>South Korea</th>\n",
       "      <td>1</td>\n",
       "      <td>1</td>\n",
       "      <td>1</td>\n",
       "      <td>1</td>\n",
       "      <td>1</td>\n",
       "      <td>1</td>\n",
       "    </tr>\n",
       "    <tr>\n",
       "      <th>UK</th>\n",
       "      <td>1</td>\n",
       "      <td>1</td>\n",
       "      <td>1</td>\n",
       "      <td>1</td>\n",
       "      <td>1</td>\n",
       "      <td>1</td>\n",
       "    </tr>\n",
       "    <tr>\n",
       "      <th>USA</th>\n",
       "      <td>19</td>\n",
       "      <td>19</td>\n",
       "      <td>17</td>\n",
       "      <td>19</td>\n",
       "      <td>20</td>\n",
       "      <td>18</td>\n",
       "    </tr>\n",
       "  </tbody>\n",
       "</table>\n",
       "</div>"
      ],
      "text/plain": [
       "             H1Diff  H2Diff  H3Diff  H4Diff  H5Diff  H6Diff\n",
       "Country                                                    \n",
       "Bangladesh        1       1       1       1       1       1\n",
       "Brazil            1       1       1       1       1       1\n",
       "Canada            1       1       1       1       1       1\n",
       "China             3       3       3       3       3       3\n",
       "Germany           2       2       2       2       2       2\n",
       "Hong Kong         1       1       1       1       1       1\n",
       "India            13      12       9      10      12      12\n",
       "Mexico            1       1       1       0       1       0\n",
       "New Zealand       1       1       1       1       1       1\n",
       "Nicaragua         1       1       0       0       1       0\n",
       "Nigeria           1       0       0       0       1       1\n",
       "South Korea       1       1       1       1       1       1\n",
       "UK                1       1       1       1       1       1\n",
       "USA              19      19      17      19      20      18"
      ]
     },
     "execution_count": 193,
     "metadata": {},
     "output_type": "execute_result"
    }
   ],
   "source": [
    "clean_post_survey_diff.groupby('Country').count()"
   ]
  },
  {
   "cell_type": "markdown",
   "metadata": {},
   "source": [
    "**Average change by country**"
   ]
  },
  {
   "cell_type": "markdown",
   "metadata": {},
   "source": [
    "Here we calculate the average change from pre-to-post for each country. The countries with the largest number of attendees are India, USA and arguable China. I note that all categories for USA and China had an average negative change. For India, the changes were neutral or positive except for H6."
   ]
  },
  {
   "cell_type": "code",
   "execution_count": 194,
   "metadata": {},
   "outputs": [
    {
     "data": {
      "text/html": [
       "<div>\n",
       "<table border=\"1\" class=\"dataframe\">\n",
       "  <thead>\n",
       "    <tr style=\"text-align: right;\">\n",
       "      <th></th>\n",
       "      <th>H1Diff</th>\n",
       "      <th>H2Diff</th>\n",
       "      <th>H3Diff</th>\n",
       "      <th>H4Diff</th>\n",
       "      <th>H5Diff</th>\n",
       "      <th>H6Diff</th>\n",
       "    </tr>\n",
       "    <tr>\n",
       "      <th>Country</th>\n",
       "      <th></th>\n",
       "      <th></th>\n",
       "      <th></th>\n",
       "      <th></th>\n",
       "      <th></th>\n",
       "      <th></th>\n",
       "    </tr>\n",
       "  </thead>\n",
       "  <tbody>\n",
       "    <tr>\n",
       "      <th>Bangladesh</th>\n",
       "      <td>1.000000</td>\n",
       "      <td>1.000000</td>\n",
       "      <td>2.000000</td>\n",
       "      <td>2.000000</td>\n",
       "      <td>1.000000</td>\n",
       "      <td>2.000000</td>\n",
       "    </tr>\n",
       "    <tr>\n",
       "      <th>Brazil</th>\n",
       "      <td>-1.000000</td>\n",
       "      <td>-1.000000</td>\n",
       "      <td>-1.000000</td>\n",
       "      <td>-1.000000</td>\n",
       "      <td>0.000000</td>\n",
       "      <td>-1.000000</td>\n",
       "    </tr>\n",
       "    <tr>\n",
       "      <th>Canada</th>\n",
       "      <td>-1.000000</td>\n",
       "      <td>-1.000000</td>\n",
       "      <td>0.000000</td>\n",
       "      <td>0.000000</td>\n",
       "      <td>0.000000</td>\n",
       "      <td>-1.000000</td>\n",
       "    </tr>\n",
       "    <tr>\n",
       "      <th>China</th>\n",
       "      <td>-0.666667</td>\n",
       "      <td>0.000000</td>\n",
       "      <td>0.000000</td>\n",
       "      <td>0.000000</td>\n",
       "      <td>-0.333333</td>\n",
       "      <td>-0.333333</td>\n",
       "    </tr>\n",
       "    <tr>\n",
       "      <th>Germany</th>\n",
       "      <td>0.000000</td>\n",
       "      <td>0.000000</td>\n",
       "      <td>0.500000</td>\n",
       "      <td>0.000000</td>\n",
       "      <td>-0.500000</td>\n",
       "      <td>1.500000</td>\n",
       "    </tr>\n",
       "    <tr>\n",
       "      <th>Hong Kong</th>\n",
       "      <td>1.000000</td>\n",
       "      <td>1.000000</td>\n",
       "      <td>0.000000</td>\n",
       "      <td>1.000000</td>\n",
       "      <td>1.000000</td>\n",
       "      <td>1.000000</td>\n",
       "    </tr>\n",
       "    <tr>\n",
       "      <th>India</th>\n",
       "      <td>0.000000</td>\n",
       "      <td>0.250000</td>\n",
       "      <td>0.000000</td>\n",
       "      <td>0.200000</td>\n",
       "      <td>0.000000</td>\n",
       "      <td>-0.166667</td>\n",
       "    </tr>\n",
       "    <tr>\n",
       "      <th>Mexico</th>\n",
       "      <td>0.000000</td>\n",
       "      <td>0.000000</td>\n",
       "      <td>0.000000</td>\n",
       "      <td>NaN</td>\n",
       "      <td>-1.000000</td>\n",
       "      <td>NaN</td>\n",
       "    </tr>\n",
       "    <tr>\n",
       "      <th>New Zealand</th>\n",
       "      <td>0.000000</td>\n",
       "      <td>0.000000</td>\n",
       "      <td>0.000000</td>\n",
       "      <td>-5.000000</td>\n",
       "      <td>-5.000000</td>\n",
       "      <td>-4.000000</td>\n",
       "    </tr>\n",
       "    <tr>\n",
       "      <th>Nicaragua</th>\n",
       "      <td>0.000000</td>\n",
       "      <td>0.000000</td>\n",
       "      <td>NaN</td>\n",
       "      <td>NaN</td>\n",
       "      <td>0.000000</td>\n",
       "      <td>NaN</td>\n",
       "    </tr>\n",
       "    <tr>\n",
       "      <th>Nigeria</th>\n",
       "      <td>0.000000</td>\n",
       "      <td>NaN</td>\n",
       "      <td>NaN</td>\n",
       "      <td>NaN</td>\n",
       "      <td>0.000000</td>\n",
       "      <td>0.000000</td>\n",
       "    </tr>\n",
       "    <tr>\n",
       "      <th>South Korea</th>\n",
       "      <td>1.000000</td>\n",
       "      <td>0.000000</td>\n",
       "      <td>2.000000</td>\n",
       "      <td>3.000000</td>\n",
       "      <td>0.000000</td>\n",
       "      <td>0.000000</td>\n",
       "    </tr>\n",
       "    <tr>\n",
       "      <th>UK</th>\n",
       "      <td>-1.000000</td>\n",
       "      <td>-2.000000</td>\n",
       "      <td>0.000000</td>\n",
       "      <td>-1.000000</td>\n",
       "      <td>-2.000000</td>\n",
       "      <td>-2.000000</td>\n",
       "    </tr>\n",
       "    <tr>\n",
       "      <th>USA</th>\n",
       "      <td>-0.263158</td>\n",
       "      <td>-0.368421</td>\n",
       "      <td>-0.058824</td>\n",
       "      <td>-0.526316</td>\n",
       "      <td>-0.050000</td>\n",
       "      <td>-0.222222</td>\n",
       "    </tr>\n",
       "  </tbody>\n",
       "</table>\n",
       "</div>"
      ],
      "text/plain": [
       "               H1Diff    H2Diff    H3Diff    H4Diff    H5Diff    H6Diff\n",
       "Country                                                                \n",
       "Bangladesh   1.000000  1.000000  2.000000  2.000000  1.000000  2.000000\n",
       "Brazil      -1.000000 -1.000000 -1.000000 -1.000000  0.000000 -1.000000\n",
       "Canada      -1.000000 -1.000000  0.000000  0.000000  0.000000 -1.000000\n",
       "China       -0.666667  0.000000  0.000000  0.000000 -0.333333 -0.333333\n",
       "Germany      0.000000  0.000000  0.500000  0.000000 -0.500000  1.500000\n",
       "Hong Kong    1.000000  1.000000  0.000000  1.000000  1.000000  1.000000\n",
       "India        0.000000  0.250000  0.000000  0.200000  0.000000 -0.166667\n",
       "Mexico       0.000000  0.000000  0.000000       NaN -1.000000       NaN\n",
       "New Zealand  0.000000  0.000000  0.000000 -5.000000 -5.000000 -4.000000\n",
       "Nicaragua    0.000000  0.000000       NaN       NaN  0.000000       NaN\n",
       "Nigeria      0.000000       NaN       NaN       NaN  0.000000  0.000000\n",
       "South Korea  1.000000  0.000000  2.000000  3.000000  0.000000  0.000000\n",
       "UK          -1.000000 -2.000000  0.000000 -1.000000 -2.000000 -2.000000\n",
       "USA         -0.263158 -0.368421 -0.058824 -0.526316 -0.050000 -0.222222"
      ]
     },
     "execution_count": 194,
     "metadata": {},
     "output_type": "execute_result"
    }
   ],
   "source": [
    "clean_post_survey_diff.groupby('Country').mean()"
   ]
  },
  {
   "cell_type": "markdown",
   "metadata": {
    "collapsed": true
   },
   "source": [
    "# Distribution of ranges of values of the Likert questions\n",
    "\n",
    "I've plotted a histogram of the ranks given. I believe this answers Heidi's question 3"
   ]
  },
  {
   "cell_type": "code",
   "execution_count": 195,
   "metadata": {},
   "outputs": [
    {
     "data": {
      "image/png": "[encoded data removed]",
      "text/plain": [
       "<matplotlib.figure.Figure at 0x1de42cd8400>"
      ]
     },
     "metadata": {},
     "output_type": "display_data"
    }
   ],
   "source": [
    "col_dict = dict()\n",
    "for column in ['H1','H2','H3','H4','H5','H6']:\n",
    "    heights,bins = np.histogram(df_all[column+\"pre\"].dropna(),bins=[-1,0,1,2,3,4,5])\n",
    "    col_dict[column+\"pre\"] = heights\n",
    "    heights,bins = np.histogram(df_all[column+\"post\"].dropna(),bins=[-1,0,1,2,3,4,5])\n",
    "    col_dict[column+\"post\"] = heights\n",
    "\n",
    "\n",
    "df = pd.DataFrame(col_dict)\n",
    "#df['H2.1'].dropna().hist(bins=[0,1,2,3,4,5])\n",
    "ax = df[1:6].transpose().plot(kind=\"bar\",color=\"white\")\n",
    "for container, hatch in zip(ax.containers, (\" \", \"\\\\\\\\\",\"*\",\"X\",\"/\")):\n",
    "    for patch in container.patches:\n",
    "        patch.set_hatch(hatch)\n",
    "ax.legend(loc='upper center')\n",
    "plt.show()"
   ]
  },
  {
   "cell_type": "markdown",
   "metadata": {},
   "source": [
    "The post-results have fewer results that get washed out against the high number of 5's given in the pre-results. Below are the post-results only"
   ]
  },
  {
   "cell_type": "code",
   "execution_count": 196,
   "metadata": {},
   "outputs": [
    {
     "data": {
      "image/png": "[encoded data removed]",
      "text/plain": [
       "<matplotlib.figure.Figure at 0x1de411f4ba8>"
      ]
     },
     "metadata": {},
     "output_type": "display_data"
    }
   ],
   "source": [
    "ax = df[['H1post','H2post','H3post','H4post','H5post','H6post']][1:6].transpose().plot(kind=\"bar\",color=\"white\")\n",
    "for container, hatch in zip(ax.containers, (\" \", \"\\\\\\\\\",\"*\",\"X\",\"/\")):\n",
    "    for patch in container.patches:\n",
    "        patch.set_hatch(hatch)\n",
    "ax.legend(loc='best')\n",
    "plt.show()"
   ]
  },
  {
   "cell_type": "markdown",
   "metadata": {},
   "source": [
    "# Mann-Whitney U test\n",
    "\n",
    "I'm not very familiar with these tests, so I've done my best. I had to filter out \"Black, not Hispanic\" as there was only one respondent of that origin in the matched data. Also not that there are only 3 \"Hispanic\" respondents which may influence the result.\n"
   ]
  },
  {
   "cell_type": "code",
   "execution_count": 197,
   "metadata": {},
   "outputs": [
    {
     "data": {
      "text/html": [
       "<div>\n",
       "<table border=\"1\" class=\"dataframe\">\n",
       "  <thead>\n",
       "    <tr style=\"text-align: right;\">\n",
       "      <th></th>\n",
       "      <th>ID</th>\n",
       "      <th>Country</th>\n",
       "      <th>Age</th>\n",
       "      <th>Gender</th>\n",
       "      <th>1st Major</th>\n",
       "      <th>2nd Major</th>\n",
       "      <th>Continuing</th>\n",
       "      <th>Why change</th>\n",
       "      <th>Prog. Ability</th>\n",
       "      <th>Months experience</th>\n",
       "      <th>...</th>\n",
       "      <th>H5post</th>\n",
       "      <th>H6post</th>\n",
       "      <th>SA2</th>\n",
       "      <th>Unnamed: 26</th>\n",
       "      <th>H1Diff</th>\n",
       "      <th>H2Diff</th>\n",
       "      <th>H3Diff</th>\n",
       "      <th>H4Diff</th>\n",
       "      <th>H5Diff</th>\n",
       "      <th>H6Diff</th>\n",
       "    </tr>\n",
       "    <tr>\n",
       "      <th>Origin</th>\n",
       "      <th></th>\n",
       "      <th></th>\n",
       "      <th></th>\n",
       "      <th></th>\n",
       "      <th></th>\n",
       "      <th></th>\n",
       "      <th></th>\n",
       "      <th></th>\n",
       "      <th></th>\n",
       "      <th></th>\n",
       "      <th></th>\n",
       "      <th></th>\n",
       "      <th></th>\n",
       "      <th></th>\n",
       "      <th></th>\n",
       "      <th></th>\n",
       "      <th></th>\n",
       "      <th></th>\n",
       "      <th></th>\n",
       "      <th></th>\n",
       "      <th></th>\n",
       "    </tr>\n",
       "  </thead>\n",
       "  <tbody>\n",
       "    <tr>\n",
       "      <th>Asian or Pacific Islander</th>\n",
       "      <td>25</td>\n",
       "      <td>25</td>\n",
       "      <td>25</td>\n",
       "      <td>24</td>\n",
       "      <td>25</td>\n",
       "      <td>10</td>\n",
       "      <td>24</td>\n",
       "      <td>2</td>\n",
       "      <td>25</td>\n",
       "      <td>20</td>\n",
       "      <td>...</td>\n",
       "      <td>23</td>\n",
       "      <td>23</td>\n",
       "      <td>12</td>\n",
       "      <td>0</td>\n",
       "      <td>25</td>\n",
       "      <td>25</td>\n",
       "      <td>25</td>\n",
       "      <td>25</td>\n",
       "      <td>25</td>\n",
       "      <td>25</td>\n",
       "    </tr>\n",
       "    <tr>\n",
       "      <th>Black, not Hispanic</th>\n",
       "      <td>1</td>\n",
       "      <td>1</td>\n",
       "      <td>1</td>\n",
       "      <td>1</td>\n",
       "      <td>1</td>\n",
       "      <td>0</td>\n",
       "      <td>1</td>\n",
       "      <td>0</td>\n",
       "      <td>1</td>\n",
       "      <td>1</td>\n",
       "      <td>...</td>\n",
       "      <td>1</td>\n",
       "      <td>1</td>\n",
       "      <td>1</td>\n",
       "      <td>0</td>\n",
       "      <td>1</td>\n",
       "      <td>1</td>\n",
       "      <td>1</td>\n",
       "      <td>1</td>\n",
       "      <td>1</td>\n",
       "      <td>1</td>\n",
       "    </tr>\n",
       "    <tr>\n",
       "      <th>Hispanic</th>\n",
       "      <td>3</td>\n",
       "      <td>3</td>\n",
       "      <td>3</td>\n",
       "      <td>3</td>\n",
       "      <td>3</td>\n",
       "      <td>1</td>\n",
       "      <td>2</td>\n",
       "      <td>0</td>\n",
       "      <td>3</td>\n",
       "      <td>3</td>\n",
       "      <td>...</td>\n",
       "      <td>3</td>\n",
       "      <td>3</td>\n",
       "      <td>2</td>\n",
       "      <td>0</td>\n",
       "      <td>3</td>\n",
       "      <td>3</td>\n",
       "      <td>3</td>\n",
       "      <td>3</td>\n",
       "      <td>3</td>\n",
       "      <td>3</td>\n",
       "    </tr>\n",
       "    <tr>\n",
       "      <th>White, not Hispanic</th>\n",
       "      <td>18</td>\n",
       "      <td>18</td>\n",
       "      <td>18</td>\n",
       "      <td>18</td>\n",
       "      <td>18</td>\n",
       "      <td>5</td>\n",
       "      <td>14</td>\n",
       "      <td>0</td>\n",
       "      <td>18</td>\n",
       "      <td>14</td>\n",
       "      <td>...</td>\n",
       "      <td>18</td>\n",
       "      <td>18</td>\n",
       "      <td>12</td>\n",
       "      <td>0</td>\n",
       "      <td>18</td>\n",
       "      <td>18</td>\n",
       "      <td>18</td>\n",
       "      <td>18</td>\n",
       "      <td>18</td>\n",
       "      <td>18</td>\n",
       "    </tr>\n",
       "  </tbody>\n",
       "</table>\n",
       "<p>4 rows × 32 columns</p>\n",
       "</div>"
      ],
      "text/plain": [
       "                           ID  Country  Age  Gender  1st Major  2nd Major  \\\n",
       "Origin                                                                      \n",
       "Asian or Pacific Islander  25       25   25      24         25         10   \n",
       "Black, not Hispanic         1        1    1       1          1          0   \n",
       "Hispanic                    3        3    3       3          3          1   \n",
       "White, not Hispanic        18       18   18      18         18          5   \n",
       "\n",
       "                           Continuing  Why change  Prog. Ability  \\\n",
       "Origin                                                             \n",
       "Asian or Pacific Islander          24           2             25   \n",
       "Black, not Hispanic                 1           0              1   \n",
       "Hispanic                            2           0              3   \n",
       "White, not Hispanic                14           0             18   \n",
       "\n",
       "                           Months experience   ...    H5post  H6post  SA2  \\\n",
       "Origin                                         ...                          \n",
       "Asian or Pacific Islander                 20   ...        23      23   12   \n",
       "Black, not Hispanic                        1   ...         1       1    1   \n",
       "Hispanic                                   3   ...         3       3    2   \n",
       "White, not Hispanic                       14   ...        18      18   12   \n",
       "\n",
       "                           Unnamed: 26  H1Diff  H2Diff  H3Diff  H4Diff  \\\n",
       "Origin                                                                   \n",
       "Asian or Pacific Islander            0      25      25      25      25   \n",
       "Black, not Hispanic                  0       1       1       1       1   \n",
       "Hispanic                             0       3       3       3       3   \n",
       "White, not Hispanic                  0      18      18      18      18   \n",
       "\n",
       "                           H5Diff  H6Diff  \n",
       "Origin                                     \n",
       "Asian or Pacific Islander      25      25  \n",
       "Black, not Hispanic             1       1  \n",
       "Hispanic                        3       3  \n",
       "White, not Hispanic            18      18  \n",
       "\n",
       "[4 rows x 32 columns]"
      ]
     },
     "execution_count": 197,
     "metadata": {},
     "output_type": "execute_result"
    }
   ],
   "source": [
    "df_matched.groupby('Origin').count()"
   ]
  },
  {
   "cell_type": "code",
   "execution_count": 198,
   "metadata": {},
   "outputs": [
    {
     "name": "stdout",
     "output_type": "stream",
     "text": [
      "H1\n",
      "Origin\n",
      "Asian or Pacific Islander     (285.0, 0.257352051018)\n",
      "Hispanic                        (4.5, 0.396073695898)\n",
      "White, not Hispanic          (127.0, 0.0663713800146)\n",
      "dtype: object\n",
      "\n",
      "H2\n",
      "Origin\n",
      "Asian or Pacific Islander     (275.5, 0.208628927509)\n",
      "Hispanic                        (4.5, 0.396073695898)\n",
      "White, not Hispanic          (124.5, 0.0798567779064)\n",
      "dtype: object\n",
      "\n",
      "H3\n",
      "Origin\n",
      "Asian or Pacific Islander    (268.0, 0.188630119646)\n",
      "Hispanic                                  (4.0, 0.5)\n",
      "White, not Hispanic          (161.0, 0.493146023086)\n",
      "dtype: object\n",
      "\n",
      "H4\n",
      "Origin\n",
      "Asian or Pacific Islander    (231.5, 0.0503017846292)\n",
      "Hispanic                        (3.5, 0.412389047541)\n",
      "White, not Hispanic           (135.0, 0.173267651118)\n",
      "dtype: object\n",
      "\n",
      "H5\n",
      "Origin\n",
      "Asian or Pacific Islander    (281.5, 0.244203406965)\n",
      "Hispanic                       (3.0, 0.252492537547)\n",
      "White, not Hispanic          (136.5, 0.147618517403)\n",
      "dtype: object\n",
      "\n",
      "H6\n",
      "Origin\n",
      "Asian or Pacific Islander    (308.0, 0.466400912448)\n",
      "Hispanic                      (0.5, 0.0605916364187)\n",
      "White, not Hispanic          (142.5, 0.239934613162)\n",
      "dtype: object\n"
     ]
    }
   ],
   "source": [
    "import scipy.stats as stats\n",
    "df_reduce = df_matched[['Origin','H1pre','H1post','H2pre','H2post','H3pre','H3post','H4pre','H4post','H5pre','H5post','H6pre','H6post']][df_matched['Origin']!='Black, not Hispanic']\n",
    "\n",
    "print(\"H1\")\n",
    "print(df_reduce.groupby('Origin').apply(lambda t: stats.mannwhitneyu(t.H1pre, t.H1post)))\n",
    "print(\"\\nH2\")\n",
    "print(df_reduce.groupby('Origin').apply(lambda t: stats.mannwhitneyu(t.H2pre, t.H2post)))\n",
    "print(\"\\nH3\")\n",
    "print(df_reduce.groupby('Origin').apply(lambda t: stats.mannwhitneyu(t.H3pre, t.H3post)))\n",
    "print(\"\\nH4\")\n",
    "print(df_reduce.groupby('Origin').apply(lambda t: stats.mannwhitneyu(t.H4pre, t.H4post)))\n",
    "print(\"\\nH5\")\n",
    "print(df_reduce.groupby('Origin').apply(lambda t: stats.mannwhitneyu(t.H5pre, t.H5post)))\n",
    "print(\"\\nH6\")\n",
    "print(df_reduce.groupby('Origin').apply(lambda t: stats.mannwhitneyu(t.H6pre, t.H6post)))\n"
   ]
  },
  {
   "cell_type": "markdown",
   "metadata": {
    "collapsed": true
   },
   "source": [
    "# Respondents over 24"
   ]
  },
  {
   "cell_type": "code",
   "execution_count": 199,
   "metadata": {
    "scrolled": true
   },
   "outputs": [
    {
     "name": "stdout",
     "output_type": "stream",
     "text": [
      "Respondents over 24: 55\n",
      "Respondents not over 24: 55\n",
      "Matched Respondents over 24: 30\n",
      "Matched Respondents not over 24: 18\n"
     ]
    }
   ],
   "source": [
    "print(\"Respondents over 24:\", df_all[df_all['Age'] != \"> 24\"].count().max())\n",
    "print(\"Respondents not over 24:\", df_all[df_all['Age'] != \"> 24\"].count().max())\n",
    "print(\"Matched Respondents over 24:\", df_matched[df_matched['Age'] == \"> 24\"].count().max())\n",
    "print(\"Matched Respondents not over 24:\", df_matched[df_matched['Age'] != \"> 24\"].count().max())"
   ]
  },
  {
   "cell_type": "code",
   "execution_count": 200,
   "metadata": {},
   "outputs": [
    {
     "data": {
      "text/plain": [
       "31"
      ]
     },
     "execution_count": 200,
     "metadata": {},
     "output_type": "execute_result"
    }
   ],
   "source": [
    "df_all[(df_all['Months experience'] > 24) & (df_all['Age'] == \"> 24\")].shape[0]"
   ]
  },
  {
   "cell_type": "code",
   "execution_count": 201,
   "metadata": {},
   "outputs": [
    {
     "data": {
      "text/plain": [
       "132"
      ]
     },
     "execution_count": 201,
     "metadata": {},
     "output_type": "execute_result"
    }
   ],
   "source": [
    "df_all.shape[0]"
   ]
  },
  {
   "cell_type": "code",
   "execution_count": 202,
   "metadata": {},
   "outputs": [
    {
     "data": {
      "text/plain": [
       "48"
      ]
     },
     "execution_count": 202,
     "metadata": {},
     "output_type": "execute_result"
    }
   ],
   "source": [
    "df_matched.shape[0]"
   ]
  },
  {
   "cell_type": "code",
   "execution_count": 203,
   "metadata": {},
   "outputs": [
    {
     "data": {
      "text/plain": [
       "15"
      ]
     },
     "execution_count": 203,
     "metadata": {},
     "output_type": "execute_result"
    }
   ],
   "source": [
    "df_matched[(df_matched['Months experience'] > 24) & (df_matched['Age'] == \"> 24\")].shape[0]"
   ]
  },
  {
   "cell_type": "code",
   "execution_count": null,
   "metadata": {
    "collapsed": true
   },
   "outputs": [],
   "source": []
  }
 ],
 "metadata": {
  "anaconda-cloud": {},
  "kernelspec": {
   "display_name": "Python [default]",
   "language": "python",
   "name": "python3"
  },
  "language_info": {
   "codemirror_mode": {
    "name": "ipython",
    "version": 3
   },
   "file_extension": ".py",
   "mimetype": "text/x-python",
   "name": "python",
   "nbconvert_exporter": "python",
   "pygments_lexer": "ipython3",
   "version": "3.5.2"
  }
 },
 "nbformat": 4,
 "nbformat_minor": 1
}
