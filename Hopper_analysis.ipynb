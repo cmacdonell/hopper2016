{
 "cells": [
  {
   "cell_type": "code",
   "execution_count": 1,
   "metadata": {
    "collapsed": true
   },
   "outputs": [],
   "source": [
    "import pandas as pd\n",
    "import numpy as np\n",
    "import matplotlib.pyplot as plt\n",
    "\n",
    "\n",
    "%matplotlib inline  \n"
   ]
  },
  {
   "cell_type": "code",
   "execution_count": 2,
   "metadata": {},
   "outputs": [],
   "source": [
    "# create a data frame of the matched data\n",
    "df_matched = pd.read_csv(\"matched_data.csv\")\n",
    "df_matched = df_matched.replace('DK',np.nan)\n"
   ]
  },
  {
   "cell_type": "code",
   "execution_count": 3,
   "metadata": {
    "collapsed": true
   },
   "outputs": [],
   "source": [
    "oldwidth=pd.get_option('display.max_colwidth') # show the full width of SA2 column\n",
    "pd.set_option('display.max_colwidth', -1)"
   ]
  },
  {
   "cell_type": "markdown",
   "metadata": {
    "collapsed": true
   },
   "source": [
    "# Analysis of pre-survey interests\n",
    "\n",
    "### Here we will examine the interest in humanitarian issues versus CS skill development"
   ]
  },
  {
   "cell_type": "code",
   "execution_count": 4,
   "metadata": {},
   "outputs": [
    {
     "name": "stdout",
     "output_type": "stream",
     "text": [
      "Total non-empty answers: 34\n",
      "How many mentioned a word related to helping: 12\n"
     ]
    }
   ],
   "source": [
    "SA1_answers = df_matched['SA1.'].dropna() # grab the non-empty SA1 answers\n",
    "print(\"Total non-empty answers:\", len(SA1_answers))\n",
    "print(\"How many mentioned a word related to helping:\", sum(SA1_answers.str.contains('help|society|meaning|giving|good|give')))"
   ]
  },
  {
   "cell_type": "markdown",
   "metadata": {},
   "source": [
    "How many mentioned skill development?"
   ]
  },
  {
   "cell_type": "code",
   "execution_count": 5,
   "metadata": {},
   "outputs": [
    {
     "name": "stdout",
     "output_type": "stream",
     "text": [
      "How many mentioned a word related to skill development: 14\n"
     ]
    }
   ],
   "source": [
    "print(\"How many mentioned a word related to skill development:\", sum(SA1_answers.str.contains('skill|learn|improve|gain')))"
   ]
  },
  {
   "cell_type": "markdown",
   "metadata": {},
   "source": [
    "# Analysis by Origin"
   ]
  },
  {
   "cell_type": "markdown",
   "metadata": {},
   "source": [
    "**Pre-survey results** recreation of graph by Lori\n",
    "\n",
    "This analysis is being done on the origin unmatched data"
   ]
  },
  {
   "cell_type": "code",
   "execution_count": 6,
   "metadata": {},
   "outputs": [
    {
     "data": {
      "text/plain": [
       "(0, 5.5)"
      ]
     },
     "execution_count": 6,
     "metadata": {},
     "output_type": "execute_result"
    },
    {
     "data": {
      "image/png": "[encoded data removed]",
      "text/plain": [
       "<matplotlib.figure.Figure at 0x1b981b9d438>"
      ]
     },
     "metadata": {},
     "output_type": "display_data"
    }
   ],
   "source": [
    "df_all = pd.read_excel(\"Hopper 2016 - analysis.xls\")\n",
    "#print(list(df_all))\n",
    "df_all = df_all.replace('DK',np.nan)\n",
    "\n",
    "pre_survey_race = df_all[['Origin','H1pre','H2pre','H3pre','H4pre','H5pre','H6pre']]\n",
    "means = pre_survey_race.groupby('Origin').mean()\n",
    "tp = means.transpose()\n",
    "ax = tp.plot.line()\n",
    "ax.set_ylim([0,5.5])\n"
   ]
  },
  {
   "cell_type": "markdown",
   "metadata": {},
   "source": [
    "**Post-survey results** recreation of graph by Lori"
   ]
  },
  {
   "cell_type": "code",
   "execution_count": 7,
   "metadata": {},
   "outputs": [
    {
     "data": {
      "text/html": [
       "<div>\n",
       "<table border=\"1\" class=\"dataframe\">\n",
       "  <thead>\n",
       "    <tr style=\"text-align: right;\">\n",
       "      <th></th>\n",
       "      <th>H1post</th>\n",
       "      <th>H2post</th>\n",
       "      <th>H3post</th>\n",
       "      <th>H4post</th>\n",
       "      <th>H5post</th>\n",
       "      <th>H6post</th>\n",
       "    </tr>\n",
       "    <tr>\n",
       "      <th>Origin</th>\n",
       "      <th></th>\n",
       "      <th></th>\n",
       "      <th></th>\n",
       "      <th></th>\n",
       "      <th></th>\n",
       "      <th></th>\n",
       "    </tr>\n",
       "  </thead>\n",
       "  <tbody>\n",
       "    <tr>\n",
       "      <th>Asian or Pacific Islander</th>\n",
       "      <td>4.529412</td>\n",
       "      <td>4.393939</td>\n",
       "      <td>4.172414</td>\n",
       "      <td>4.285714</td>\n",
       "      <td>4.375000</td>\n",
       "      <td>4.09375</td>\n",
       "    </tr>\n",
       "    <tr>\n",
       "      <th>Black, not Hispanic</th>\n",
       "      <td>5.000000</td>\n",
       "      <td>5.000000</td>\n",
       "      <td>5.000000</td>\n",
       "      <td>5.000000</td>\n",
       "      <td>5.000000</td>\n",
       "      <td>5.00000</td>\n",
       "    </tr>\n",
       "    <tr>\n",
       "      <th>Hispanic</th>\n",
       "      <td>4.800000</td>\n",
       "      <td>4.800000</td>\n",
       "      <td>4.250000</td>\n",
       "      <td>4.500000</td>\n",
       "      <td>4.666667</td>\n",
       "      <td>4.20000</td>\n",
       "    </tr>\n",
       "    <tr>\n",
       "      <th>White, not Hispanic</th>\n",
       "      <td>4.526316</td>\n",
       "      <td>4.315789</td>\n",
       "      <td>4.176471</td>\n",
       "      <td>4.176471</td>\n",
       "      <td>4.600000</td>\n",
       "      <td>4.50000</td>\n",
       "    </tr>\n",
       "  </tbody>\n",
       "</table>\n",
       "</div>"
      ],
      "text/plain": [
       "                             H1post    H2post    H3post    H4post    H5post  \\\n",
       "Origin                                                                        \n",
       "Asian or Pacific Islander  4.529412  4.393939  4.172414  4.285714  4.375000   \n",
       "Black, not Hispanic        5.000000  5.000000  5.000000  5.000000  5.000000   \n",
       "Hispanic                   4.800000  4.800000  4.250000  4.500000  4.666667   \n",
       "White, not Hispanic        4.526316  4.315789  4.176471  4.176471  4.600000   \n",
       "\n",
       "                            H6post  \n",
       "Origin                              \n",
       "Asian or Pacific Islander  4.09375  \n",
       "Black, not Hispanic        5.00000  \n",
       "Hispanic                   4.20000  \n",
       "White, not Hispanic        4.50000  "
      ]
     },
     "execution_count": 7,
     "metadata": {},
     "output_type": "execute_result"
    },
    {
     "data": {
      "image/png": "[encoded data removed]",
      "text/plain": [
       "<matplotlib.figure.Figure at 0x1b981c9eac8>"
      ]
     },
     "metadata": {},
     "output_type": "display_data"
    }
   ],
   "source": [
    "#print(list(df_all))\n",
    "post_survey_race = df_all[['Origin','H1post','H2post','H3post','H4post','H5post','H6post']]\n",
    "post_survey_race = post_survey_race.replace('DK',np.nan)\n",
    "#pre_survey_racea\n",
    "means = post_survey_race.groupby('Origin').mean()\n",
    "means = means.replace(np.nan,5.0) # Handle the one NaN entry\n",
    "tp = means.transpose()\n",
    "ax = tp.plot.line()\n",
    "ax.set_ylim([0,5.5])\n",
    "means"
   ]
  },
  {
   "cell_type": "code",
   "execution_count": 8,
   "metadata": {},
   "outputs": [
    {
     "data": {
      "text/plain": [
       "10"
      ]
     },
     "execution_count": 8,
     "metadata": {},
     "output_type": "execute_result"
    }
   ],
   "source": [
    "post_survey_race['Origin'][post_survey_race['Origin'] == 'Hispanic'].count()"
   ]
  },
  {
   "cell_type": "markdown",
   "metadata": {},
   "source": [
    "**Here are the comments from those with negative H6 changes**"
   ]
  },
  {
   "cell_type": "code",
   "execution_count": 9,
   "metadata": {},
   "outputs": [
    {
     "data": {
      "text/plain": [
       "7     Projects take a lot of work, try something small first                    \n",
       "13    NaN                                                                       \n",
       "23    I learned how to use HEAT for OpenStack                                   \n",
       "26    NaN                                                                       \n",
       "31    NaN                                                                       \n",
       "35    If you don’t konw a lot you can still do a lot                            \n",
       "36    NaN                                                                       \n",
       "41    Collaboration makes for better projects                                   \n",
       "45    NaN                                                                       \n",
       "46    To make sure you have good documentation on any installation/set up steps.\n",
       "Name: SA2, dtype: object"
      ]
     },
     "execution_count": 9,
     "metadata": {},
     "output_type": "execute_result"
    }
   ],
   "source": [
    "df_matched['H6pre'] = pd.to_numeric(df_matched['H6pre'])\n",
    "df_matched['H6post'] = pd.to_numeric(df_matched['H6post'])\n",
    "\n",
    "df_matched['H4pre'] = pd.to_numeric(df_matched['H4pre'])\n",
    "df_matched['H4post'] = pd.to_numeric(df_matched['H4post'])\n",
    "\n",
    "df_matched['SA2'][df_matched['H6post']-df_matched['H6pre'] < 0]"
   ]
  },
  {
   "cell_type": "markdown",
   "metadata": {},
   "source": [
    "**Here are the comments fromm those with negative H5 changes**"
   ]
  },
  {
   "cell_type": "code",
   "execution_count": 10,
   "metadata": {},
   "outputs": [
    {
     "data": {
      "text/plain": [
       "1     Collaboratively/breaking up tasks and asking for help is important.                                                                                                    \n",
       "5     That most people, including professors and professionals are as lost as me sometimes                                                                                   \n",
       "22    Learned new terms, got introduction of a few new platforms which I’ll study now on my own. Good mentors and open stack organizers                                      \n",
       "23    I learned how to use HEAT for OpenStack                                                                                                                                \n",
       "26    NaN                                                                                                                                                                    \n",
       "28    I learned what open source projects are and how to contribute to them. I also learned how humanitarian projects can very positively impact the lives of those in need. \n",
       "41    Collaboration makes for better projects                                                                                                                                \n",
       "45    NaN                                                                                                                                                                    \n",
       "Name: SA2, dtype: object"
      ]
     },
     "execution_count": 10,
     "metadata": {},
     "output_type": "execute_result"
    }
   ],
   "source": [
    "df_matched['SA2'][df_matched['H5post']-df_matched['H5pre'] < 0]"
   ]
  },
  {
   "cell_type": "code",
   "execution_count": 11,
   "metadata": {
    "collapsed": true
   },
   "outputs": [],
   "source": [
    "pd.set_option('display.max_colwidth', oldwidth) # set the display width back to the default value"
   ]
  },
  {
   "cell_type": "code",
   "execution_count": 12,
   "metadata": {},
   "outputs": [],
   "source": [
    "post_survey_diff_country = df_matched[['Country','H1Diff','H2Diff','H3Diff','H4Diff','H5Diff','H6Diff']]"
   ]
  },
  {
   "cell_type": "code",
   "execution_count": 13,
   "metadata": {
    "collapsed": true
   },
   "outputs": [],
   "source": [
    "post_survey_diff_country = post_survey_diff_country.replace('#VALUE!', np.nan)"
   ]
  },
  {
   "cell_type": "code",
   "execution_count": 14,
   "metadata": {
    "collapsed": true
   },
   "outputs": [],
   "source": [
    "clean_post_survey_diff = post_survey_diff_country.apply(pd.to_numeric, errors='ignore')"
   ]
  },
  {
   "cell_type": "markdown",
   "metadata": {},
   "source": [
    "**Here are the counts of attendees by country**"
   ]
  },
  {
   "cell_type": "code",
   "execution_count": 15,
   "metadata": {},
   "outputs": [
    {
     "data": {
      "text/html": [
       "<div>\n",
       "<table border=\"1\" class=\"dataframe\">\n",
       "  <thead>\n",
       "    <tr style=\"text-align: right;\">\n",
       "      <th></th>\n",
       "      <th>H1Diff</th>\n",
       "      <th>H2Diff</th>\n",
       "      <th>H3Diff</th>\n",
       "      <th>H4Diff</th>\n",
       "      <th>H5Diff</th>\n",
       "      <th>H6Diff</th>\n",
       "    </tr>\n",
       "    <tr>\n",
       "      <th>Country</th>\n",
       "      <th></th>\n",
       "      <th></th>\n",
       "      <th></th>\n",
       "      <th></th>\n",
       "      <th></th>\n",
       "      <th></th>\n",
       "    </tr>\n",
       "  </thead>\n",
       "  <tbody>\n",
       "    <tr>\n",
       "      <th>Bangladesh</th>\n",
       "      <td>1</td>\n",
       "      <td>1</td>\n",
       "      <td>1</td>\n",
       "      <td>1</td>\n",
       "      <td>1</td>\n",
       "      <td>1</td>\n",
       "    </tr>\n",
       "    <tr>\n",
       "      <th>Brazil</th>\n",
       "      <td>1</td>\n",
       "      <td>1</td>\n",
       "      <td>1</td>\n",
       "      <td>1</td>\n",
       "      <td>1</td>\n",
       "      <td>1</td>\n",
       "    </tr>\n",
       "    <tr>\n",
       "      <th>Canada</th>\n",
       "      <td>1</td>\n",
       "      <td>1</td>\n",
       "      <td>1</td>\n",
       "      <td>1</td>\n",
       "      <td>1</td>\n",
       "      <td>1</td>\n",
       "    </tr>\n",
       "    <tr>\n",
       "      <th>China</th>\n",
       "      <td>3</td>\n",
       "      <td>3</td>\n",
       "      <td>3</td>\n",
       "      <td>3</td>\n",
       "      <td>3</td>\n",
       "      <td>3</td>\n",
       "    </tr>\n",
       "    <tr>\n",
       "      <th>Germany</th>\n",
       "      <td>2</td>\n",
       "      <td>2</td>\n",
       "      <td>2</td>\n",
       "      <td>2</td>\n",
       "      <td>2</td>\n",
       "      <td>2</td>\n",
       "    </tr>\n",
       "    <tr>\n",
       "      <th>Hong Kong</th>\n",
       "      <td>1</td>\n",
       "      <td>1</td>\n",
       "      <td>1</td>\n",
       "      <td>1</td>\n",
       "      <td>1</td>\n",
       "      <td>1</td>\n",
       "    </tr>\n",
       "    <tr>\n",
       "      <th>India</th>\n",
       "      <td>13</td>\n",
       "      <td>12</td>\n",
       "      <td>9</td>\n",
       "      <td>10</td>\n",
       "      <td>12</td>\n",
       "      <td>12</td>\n",
       "    </tr>\n",
       "    <tr>\n",
       "      <th>Mexico</th>\n",
       "      <td>1</td>\n",
       "      <td>1</td>\n",
       "      <td>1</td>\n",
       "      <td>0</td>\n",
       "      <td>1</td>\n",
       "      <td>0</td>\n",
       "    </tr>\n",
       "    <tr>\n",
       "      <th>New Zealand</th>\n",
       "      <td>1</td>\n",
       "      <td>1</td>\n",
       "      <td>1</td>\n",
       "      <td>1</td>\n",
       "      <td>1</td>\n",
       "      <td>1</td>\n",
       "    </tr>\n",
       "    <tr>\n",
       "      <th>Nicaragua</th>\n",
       "      <td>1</td>\n",
       "      <td>1</td>\n",
       "      <td>0</td>\n",
       "      <td>0</td>\n",
       "      <td>1</td>\n",
       "      <td>0</td>\n",
       "    </tr>\n",
       "    <tr>\n",
       "      <th>Nigeria</th>\n",
       "      <td>1</td>\n",
       "      <td>0</td>\n",
       "      <td>0</td>\n",
       "      <td>0</td>\n",
       "      <td>1</td>\n",
       "      <td>1</td>\n",
       "    </tr>\n",
       "    <tr>\n",
       "      <th>South Korea</th>\n",
       "      <td>1</td>\n",
       "      <td>1</td>\n",
       "      <td>1</td>\n",
       "      <td>1</td>\n",
       "      <td>1</td>\n",
       "      <td>1</td>\n",
       "    </tr>\n",
       "    <tr>\n",
       "      <th>UK</th>\n",
       "      <td>1</td>\n",
       "      <td>1</td>\n",
       "      <td>1</td>\n",
       "      <td>1</td>\n",
       "      <td>1</td>\n",
       "      <td>1</td>\n",
       "    </tr>\n",
       "    <tr>\n",
       "      <th>USA</th>\n",
       "      <td>19</td>\n",
       "      <td>19</td>\n",
       "      <td>17</td>\n",
       "      <td>19</td>\n",
       "      <td>20</td>\n",
       "      <td>18</td>\n",
       "    </tr>\n",
       "  </tbody>\n",
       "</table>\n",
       "</div>"
      ],
      "text/plain": [
       "             H1Diff  H2Diff  H3Diff  H4Diff  H5Diff  H6Diff\n",
       "Country                                                    \n",
       "Bangladesh        1       1       1       1       1       1\n",
       "Brazil            1       1       1       1       1       1\n",
       "Canada            1       1       1       1       1       1\n",
       "China             3       3       3       3       3       3\n",
       "Germany           2       2       2       2       2       2\n",
       "Hong Kong         1       1       1       1       1       1\n",
       "India            13      12       9      10      12      12\n",
       "Mexico            1       1       1       0       1       0\n",
       "New Zealand       1       1       1       1       1       1\n",
       "Nicaragua         1       1       0       0       1       0\n",
       "Nigeria           1       0       0       0       1       1\n",
       "South Korea       1       1       1       1       1       1\n",
       "UK                1       1       1       1       1       1\n",
       "USA              19      19      17      19      20      18"
      ]
     },
     "execution_count": 15,
     "metadata": {},
     "output_type": "execute_result"
    }
   ],
   "source": [
    "clean_post_survey_diff.groupby('Country').count()"
   ]
  },
  {
   "cell_type": "markdown",
   "metadata": {},
   "source": [
    "**Average change by country**"
   ]
  },
  {
   "cell_type": "markdown",
   "metadata": {},
   "source": [
    "Here we calculate the average change from pre-to-post for each country. The countries with the largest number of attendees are India, USA and arguable China. I note that all categories for USA and China had an average negative change. For India, the changes were neutral or positive except for H6."
   ]
  },
  {
   "cell_type": "code",
   "execution_count": 16,
   "metadata": {},
   "outputs": [
    {
     "data": {
      "text/html": [
       "<div>\n",
       "<table border=\"1\" class=\"dataframe\">\n",
       "  <thead>\n",
       "    <tr style=\"text-align: right;\">\n",
       "      <th></th>\n",
       "      <th>H1Diff</th>\n",
       "      <th>H2Diff</th>\n",
       "      <th>H3Diff</th>\n",
       "      <th>H4Diff</th>\n",
       "      <th>H5Diff</th>\n",
       "      <th>H6Diff</th>\n",
       "    </tr>\n",
       "    <tr>\n",
       "      <th>Country</th>\n",
       "      <th></th>\n",
       "      <th></th>\n",
       "      <th></th>\n",
       "      <th></th>\n",
       "      <th></th>\n",
       "      <th></th>\n",
       "    </tr>\n",
       "  </thead>\n",
       "  <tbody>\n",
       "    <tr>\n",
       "      <th>Bangladesh</th>\n",
       "      <td>1.000000</td>\n",
       "      <td>1.000000</td>\n",
       "      <td>2.000000</td>\n",
       "      <td>2.000000</td>\n",
       "      <td>1.000000</td>\n",
       "      <td>2.000000</td>\n",
       "    </tr>\n",
       "    <tr>\n",
       "      <th>Brazil</th>\n",
       "      <td>-1.000000</td>\n",
       "      <td>-1.000000</td>\n",
       "      <td>-1.000000</td>\n",
       "      <td>-1.000000</td>\n",
       "      <td>0.000000</td>\n",
       "      <td>-1.000000</td>\n",
       "    </tr>\n",
       "    <tr>\n",
       "      <th>Canada</th>\n",
       "      <td>-1.000000</td>\n",
       "      <td>-1.000000</td>\n",
       "      <td>0.000000</td>\n",
       "      <td>0.000000</td>\n",
       "      <td>0.000000</td>\n",
       "      <td>-1.000000</td>\n",
       "    </tr>\n",
       "    <tr>\n",
       "      <th>China</th>\n",
       "      <td>-0.666667</td>\n",
       "      <td>0.000000</td>\n",
       "      <td>0.000000</td>\n",
       "      <td>0.000000</td>\n",
       "      <td>-0.333333</td>\n",
       "      <td>-0.333333</td>\n",
       "    </tr>\n",
       "    <tr>\n",
       "      <th>Germany</th>\n",
       "      <td>0.000000</td>\n",
       "      <td>0.000000</td>\n",
       "      <td>0.500000</td>\n",
       "      <td>0.000000</td>\n",
       "      <td>-0.500000</td>\n",
       "      <td>1.500000</td>\n",
       "    </tr>\n",
       "    <tr>\n",
       "      <th>Hong Kong</th>\n",
       "      <td>1.000000</td>\n",
       "      <td>1.000000</td>\n",
       "      <td>0.000000</td>\n",
       "      <td>1.000000</td>\n",
       "      <td>1.000000</td>\n",
       "      <td>1.000000</td>\n",
       "    </tr>\n",
       "    <tr>\n",
       "      <th>India</th>\n",
       "      <td>0.000000</td>\n",
       "      <td>0.250000</td>\n",
       "      <td>0.000000</td>\n",
       "      <td>0.200000</td>\n",
       "      <td>0.000000</td>\n",
       "      <td>-0.166667</td>\n",
       "    </tr>\n",
       "    <tr>\n",
       "      <th>Mexico</th>\n",
       "      <td>0.000000</td>\n",
       "      <td>0.000000</td>\n",
       "      <td>0.000000</td>\n",
       "      <td>NaN</td>\n",
       "      <td>-1.000000</td>\n",
       "      <td>NaN</td>\n",
       "    </tr>\n",
       "    <tr>\n",
       "      <th>New Zealand</th>\n",
       "      <td>0.000000</td>\n",
       "      <td>0.000000</td>\n",
       "      <td>0.000000</td>\n",
       "      <td>-5.000000</td>\n",
       "      <td>-5.000000</td>\n",
       "      <td>-4.000000</td>\n",
       "    </tr>\n",
       "    <tr>\n",
       "      <th>Nicaragua</th>\n",
       "      <td>0.000000</td>\n",
       "      <td>0.000000</td>\n",
       "      <td>NaN</td>\n",
       "      <td>NaN</td>\n",
       "      <td>0.000000</td>\n",
       "      <td>NaN</td>\n",
       "    </tr>\n",
       "    <tr>\n",
       "      <th>Nigeria</th>\n",
       "      <td>0.000000</td>\n",
       "      <td>NaN</td>\n",
       "      <td>NaN</td>\n",
       "      <td>NaN</td>\n",
       "      <td>0.000000</td>\n",
       "      <td>0.000000</td>\n",
       "    </tr>\n",
       "    <tr>\n",
       "      <th>South Korea</th>\n",
       "      <td>1.000000</td>\n",
       "      <td>0.000000</td>\n",
       "      <td>2.000000</td>\n",
       "      <td>3.000000</td>\n",
       "      <td>0.000000</td>\n",
       "      <td>0.000000</td>\n",
       "    </tr>\n",
       "    <tr>\n",
       "      <th>UK</th>\n",
       "      <td>-1.000000</td>\n",
       "      <td>-2.000000</td>\n",
       "      <td>0.000000</td>\n",
       "      <td>-1.000000</td>\n",
       "      <td>-2.000000</td>\n",
       "      <td>-2.000000</td>\n",
       "    </tr>\n",
       "    <tr>\n",
       "      <th>USA</th>\n",
       "      <td>-0.263158</td>\n",
       "      <td>-0.368421</td>\n",
       "      <td>-0.058824</td>\n",
       "      <td>-0.526316</td>\n",
       "      <td>-0.050000</td>\n",
       "      <td>-0.222222</td>\n",
       "    </tr>\n",
       "  </tbody>\n",
       "</table>\n",
       "</div>"
      ],
      "text/plain": [
       "               H1Diff    H2Diff    H3Diff    H4Diff    H5Diff    H6Diff\n",
       "Country                                                                \n",
       "Bangladesh   1.000000  1.000000  2.000000  2.000000  1.000000  2.000000\n",
       "Brazil      -1.000000 -1.000000 -1.000000 -1.000000  0.000000 -1.000000\n",
       "Canada      -1.000000 -1.000000  0.000000  0.000000  0.000000 -1.000000\n",
       "China       -0.666667  0.000000  0.000000  0.000000 -0.333333 -0.333333\n",
       "Germany      0.000000  0.000000  0.500000  0.000000 -0.500000  1.500000\n",
       "Hong Kong    1.000000  1.000000  0.000000  1.000000  1.000000  1.000000\n",
       "India        0.000000  0.250000  0.000000  0.200000  0.000000 -0.166667\n",
       "Mexico       0.000000  0.000000  0.000000       NaN -1.000000       NaN\n",
       "New Zealand  0.000000  0.000000  0.000000 -5.000000 -5.000000 -4.000000\n",
       "Nicaragua    0.000000  0.000000       NaN       NaN  0.000000       NaN\n",
       "Nigeria      0.000000       NaN       NaN       NaN  0.000000  0.000000\n",
       "South Korea  1.000000  0.000000  2.000000  3.000000  0.000000  0.000000\n",
       "UK          -1.000000 -2.000000  0.000000 -1.000000 -2.000000 -2.000000\n",
       "USA         -0.263158 -0.368421 -0.058824 -0.526316 -0.050000 -0.222222"
      ]
     },
     "execution_count": 16,
     "metadata": {},
     "output_type": "execute_result"
    }
   ],
   "source": [
    "clean_post_survey_diff.groupby('Country').mean()"
   ]
  },
  {
   "cell_type": "markdown",
   "metadata": {
    "collapsed": true
   },
   "source": [
    "# Distribution of ranges of values of the Likert questions\n",
    "\n",
    "I've plotted a histogram of the ranks given. I believe this answers Heidi's question 3"
   ]
  },
  {
   "cell_type": "code",
   "execution_count": 17,
   "metadata": {},
   "outputs": [
    {
     "data": {
      "text/plain": [
       "<matplotlib.axes._subplots.AxesSubplot at 0x1b981aaa668>"
      ]
     },
     "execution_count": 17,
     "metadata": {},
     "output_type": "execute_result"
    },
    {
     "data": {
      "image/png": "[encoded data removed]",
      "text/plain": [
       "<matplotlib.figure.Figure at 0x1b982521978>"
      ]
     },
     "metadata": {},
     "output_type": "display_data"
    }
   ],
   "source": [
    "col_dict = dict()\n",
    "for column in ['H1','H2','H3','H4','H5','H6']:\n",
    "    heights,bins = np.histogram(df_all[column+\"pre\"].dropna(),bins=[-1,0,1,2,3,4,5])\n",
    "    col_dict[column+\"pre\"] = heights\n",
    "    heights,bins = np.histogram(df_all[column+\"post\"].dropna(),bins=[-1,0,1,2,3,4,5])\n",
    "    col_dict[column+\"post\"] = heights\n",
    "\n",
    "\n",
    "df = pd.DataFrame(col_dict)\n",
    "#df['H2.1'].dropna().hist(bins=[0,1,2,3,4,5])\n",
    "df[1:6].transpose().plot(kind=\"bar\")"
   ]
  },
  {
   "cell_type": "markdown",
   "metadata": {},
   "source": [
    "The post-results have fewer results that get washed out against the high number of 5's given in the pre-results. Below are the post-results only"
   ]
  },
  {
   "cell_type": "code",
   "execution_count": 18,
   "metadata": {},
   "outputs": [
    {
     "data": {
      "text/plain": [
       "<matplotlib.axes._subplots.AxesSubplot at 0x1b98252d518>"
      ]
     },
     "execution_count": 18,
     "metadata": {},
     "output_type": "execute_result"
    },
    {
     "data": {
      "image/png": "[encoded data removed]",
      "text/plain": [
       "<matplotlib.figure.Figure at 0x1b9fecad748>"
      ]
     },
     "metadata": {},
     "output_type": "display_data"
    }
   ],
   "source": [
    "df[['H1post','H2post','H3post','H4post','H5post','H6post']][1:6].transpose().plot(kind=\"bar\")"
   ]
  },
  {
   "cell_type": "markdown",
   "metadata": {},
   "source": [
    "# Mann-Whitney U test\n",
    "\n",
    "I'm not very familiar with these tests, so I've done my best. I had to filter out \"Black, not Hispanic\" as there was only one respondent of that origin in the matched data. Also not that there are only 3 \"Hispanic\" respondents which may influence the result.\n"
   ]
  },
  {
   "cell_type": "code",
   "execution_count": 19,
   "metadata": {},
   "outputs": [
    {
     "data": {
      "text/html": [
       "<div>\n",
       "<table border=\"1\" class=\"dataframe\">\n",
       "  <thead>\n",
       "    <tr style=\"text-align: right;\">\n",
       "      <th></th>\n",
       "      <th>ID</th>\n",
       "      <th>Country</th>\n",
       "      <th>Age</th>\n",
       "      <th>Gender</th>\n",
       "      <th>1st Major</th>\n",
       "      <th>2nd Major</th>\n",
       "      <th>Continuing</th>\n",
       "      <th>Why change</th>\n",
       "      <th>Prog. Ability</th>\n",
       "      <th>Months experience</th>\n",
       "      <th>...</th>\n",
       "      <th>H5post</th>\n",
       "      <th>H6post</th>\n",
       "      <th>SA2</th>\n",
       "      <th>Unnamed: 26</th>\n",
       "      <th>H1Diff</th>\n",
       "      <th>H2Diff</th>\n",
       "      <th>H3Diff</th>\n",
       "      <th>H4Diff</th>\n",
       "      <th>H5Diff</th>\n",
       "      <th>H6Diff</th>\n",
       "    </tr>\n",
       "    <tr>\n",
       "      <th>Origin</th>\n",
       "      <th></th>\n",
       "      <th></th>\n",
       "      <th></th>\n",
       "      <th></th>\n",
       "      <th></th>\n",
       "      <th></th>\n",
       "      <th></th>\n",
       "      <th></th>\n",
       "      <th></th>\n",
       "      <th></th>\n",
       "      <th></th>\n",
       "      <th></th>\n",
       "      <th></th>\n",
       "      <th></th>\n",
       "      <th></th>\n",
       "      <th></th>\n",
       "      <th></th>\n",
       "      <th></th>\n",
       "      <th></th>\n",
       "      <th></th>\n",
       "      <th></th>\n",
       "    </tr>\n",
       "  </thead>\n",
       "  <tbody>\n",
       "    <tr>\n",
       "      <th>Asian or Pacific Islander</th>\n",
       "      <td>25</td>\n",
       "      <td>25</td>\n",
       "      <td>25</td>\n",
       "      <td>24</td>\n",
       "      <td>25</td>\n",
       "      <td>10</td>\n",
       "      <td>24</td>\n",
       "      <td>2</td>\n",
       "      <td>25</td>\n",
       "      <td>20</td>\n",
       "      <td>...</td>\n",
       "      <td>23</td>\n",
       "      <td>23</td>\n",
       "      <td>12</td>\n",
       "      <td>0</td>\n",
       "      <td>25</td>\n",
       "      <td>25</td>\n",
       "      <td>25</td>\n",
       "      <td>25</td>\n",
       "      <td>25</td>\n",
       "      <td>25</td>\n",
       "    </tr>\n",
       "    <tr>\n",
       "      <th>Black, not Hispanic</th>\n",
       "      <td>1</td>\n",
       "      <td>1</td>\n",
       "      <td>1</td>\n",
       "      <td>1</td>\n",
       "      <td>1</td>\n",
       "      <td>0</td>\n",
       "      <td>1</td>\n",
       "      <td>0</td>\n",
       "      <td>1</td>\n",
       "      <td>1</td>\n",
       "      <td>...</td>\n",
       "      <td>1</td>\n",
       "      <td>1</td>\n",
       "      <td>1</td>\n",
       "      <td>0</td>\n",
       "      <td>1</td>\n",
       "      <td>1</td>\n",
       "      <td>1</td>\n",
       "      <td>1</td>\n",
       "      <td>1</td>\n",
       "      <td>1</td>\n",
       "    </tr>\n",
       "    <tr>\n",
       "      <th>Hispanic</th>\n",
       "      <td>3</td>\n",
       "      <td>3</td>\n",
       "      <td>3</td>\n",
       "      <td>3</td>\n",
       "      <td>3</td>\n",
       "      <td>1</td>\n",
       "      <td>2</td>\n",
       "      <td>0</td>\n",
       "      <td>3</td>\n",
       "      <td>3</td>\n",
       "      <td>...</td>\n",
       "      <td>3</td>\n",
       "      <td>3</td>\n",
       "      <td>2</td>\n",
       "      <td>0</td>\n",
       "      <td>3</td>\n",
       "      <td>3</td>\n",
       "      <td>3</td>\n",
       "      <td>3</td>\n",
       "      <td>3</td>\n",
       "      <td>3</td>\n",
       "    </tr>\n",
       "    <tr>\n",
       "      <th>White, not Hispanic</th>\n",
       "      <td>18</td>\n",
       "      <td>18</td>\n",
       "      <td>18</td>\n",
       "      <td>18</td>\n",
       "      <td>18</td>\n",
       "      <td>5</td>\n",
       "      <td>14</td>\n",
       "      <td>0</td>\n",
       "      <td>18</td>\n",
       "      <td>14</td>\n",
       "      <td>...</td>\n",
       "      <td>18</td>\n",
       "      <td>18</td>\n",
       "      <td>12</td>\n",
       "      <td>0</td>\n",
       "      <td>18</td>\n",
       "      <td>18</td>\n",
       "      <td>18</td>\n",
       "      <td>18</td>\n",
       "      <td>18</td>\n",
       "      <td>18</td>\n",
       "    </tr>\n",
       "  </tbody>\n",
       "</table>\n",
       "<p>4 rows × 32 columns</p>\n",
       "</div>"
      ],
      "text/plain": [
       "                           ID  Country  Age  Gender  1st Major  2nd Major  \\\n",
       "Origin                                                                      \n",
       "Asian or Pacific Islander  25       25   25      24         25         10   \n",
       "Black, not Hispanic         1        1    1       1          1          0   \n",
       "Hispanic                    3        3    3       3          3          1   \n",
       "White, not Hispanic        18       18   18      18         18          5   \n",
       "\n",
       "                           Continuing  Why change  Prog. Ability  \\\n",
       "Origin                                                             \n",
       "Asian or Pacific Islander          24           2             25   \n",
       "Black, not Hispanic                 1           0              1   \n",
       "Hispanic                            2           0              3   \n",
       "White, not Hispanic                14           0             18   \n",
       "\n",
       "                           Months experience   ...    H5post  H6post  SA2  \\\n",
       "Origin                                         ...                          \n",
       "Asian or Pacific Islander                 20   ...        23      23   12   \n",
       "Black, not Hispanic                        1   ...         1       1    1   \n",
       "Hispanic                                   3   ...         3       3    2   \n",
       "White, not Hispanic                       14   ...        18      18   12   \n",
       "\n",
       "                           Unnamed: 26  H1Diff  H2Diff  H3Diff  H4Diff  \\\n",
       "Origin                                                                   \n",
       "Asian or Pacific Islander            0      25      25      25      25   \n",
       "Black, not Hispanic                  0       1       1       1       1   \n",
       "Hispanic                             0       3       3       3       3   \n",
       "White, not Hispanic                  0      18      18      18      18   \n",
       "\n",
       "                           H5Diff  H6Diff  \n",
       "Origin                                     \n",
       "Asian or Pacific Islander      25      25  \n",
       "Black, not Hispanic             1       1  \n",
       "Hispanic                        3       3  \n",
       "White, not Hispanic            18      18  \n",
       "\n",
       "[4 rows x 32 columns]"
      ]
     },
     "execution_count": 19,
     "metadata": {},
     "output_type": "execute_result"
    }
   ],
   "source": [
    "df_matched.groupby('Origin').count()"
   ]
  },
  {
   "cell_type": "code",
   "execution_count": 20,
   "metadata": {},
   "outputs": [
    {
     "name": "stdout",
     "output_type": "stream",
     "text": [
      "H1\n",
      "Origin\n",
      "Asian or Pacific Islander     (285.0, 0.257352051018)\n",
      "Hispanic                        (4.5, 0.396073695898)\n",
      "White, not Hispanic          (127.0, 0.0663713800146)\n",
      "dtype: object\n",
      "\n",
      "H2\n",
      "Origin\n",
      "Asian or Pacific Islander     (275.5, 0.208628927509)\n",
      "Hispanic                        (4.5, 0.396073695898)\n",
      "White, not Hispanic          (124.5, 0.0798567779064)\n",
      "dtype: object\n",
      "\n",
      "H3\n",
      "Origin\n",
      "Asian or Pacific Islander    (268.0, 0.188630119646)\n",
      "Hispanic                                  (4.0, 0.5)\n",
      "White, not Hispanic          (161.0, 0.493146023086)\n",
      "dtype: object\n",
      "\n",
      "H4\n",
      "Origin\n",
      "Asian or Pacific Islander    (231.5, 0.0503017846292)\n",
      "Hispanic                        (3.5, 0.412389047541)\n",
      "White, not Hispanic           (135.0, 0.173267651118)\n",
      "dtype: object\n",
      "\n",
      "H5\n",
      "Origin\n",
      "Asian or Pacific Islander    (281.5, 0.244203406965)\n",
      "Hispanic                       (3.0, 0.252492537547)\n",
      "White, not Hispanic          (136.5, 0.147618517403)\n",
      "dtype: object\n",
      "\n",
      "H6\n",
      "Origin\n",
      "Asian or Pacific Islander    (308.0, 0.466400912448)\n",
      "Hispanic                      (0.5, 0.0605916364187)\n",
      "White, not Hispanic          (142.5, 0.239934613162)\n",
      "dtype: object\n"
     ]
    }
   ],
   "source": [
    "import scipy.stats as stats\n",
    "df_reduce = df_matched[['Origin','H1pre','H1post','H2pre','H2post','H3pre','H3post','H4pre','H4post','H5pre','H5post','H6pre','H6post']][df_matched['Origin']!='Black, not Hispanic']\n",
    "\n",
    "print(\"H1\")\n",
    "print(df_reduce.groupby('Origin').apply(lambda t: stats.mannwhitneyu(t.H1pre, t.H1post)))\n",
    "print(\"\\nH2\")\n",
    "print(df_reduce.groupby('Origin').apply(lambda t: stats.mannwhitneyu(t.H2pre, t.H2post)))\n",
    "print(\"\\nH3\")\n",
    "print(df_reduce.groupby('Origin').apply(lambda t: stats.mannwhitneyu(t.H3pre, t.H3post)))\n",
    "print(\"\\nH4\")\n",
    "print(df_reduce.groupby('Origin').apply(lambda t: stats.mannwhitneyu(t.H4pre, t.H4post)))\n",
    "print(\"\\nH5\")\n",
    "print(df_reduce.groupby('Origin').apply(lambda t: stats.mannwhitneyu(t.H5pre, t.H5post)))\n",
    "print(\"\\nH6\")\n",
    "print(df_reduce.groupby('Origin').apply(lambda t: stats.mannwhitneyu(t.H6pre, t.H6post)))\n"
   ]
  },
  {
   "cell_type": "code",
   "execution_count": null,
   "metadata": {
    "collapsed": true
   },
   "outputs": [],
   "source": []
  }
 ],
 "metadata": {
  "anaconda-cloud": {},
  "kernelspec": {
   "display_name": "Python [default]",
   "language": "python",
   "name": "python3"
  },
  "language_info": {
   "codemirror_mode": {
    "name": "ipython",
    "version": 3
   },
   "file_extension": ".py",
   "mimetype": "text/x-python",
   "name": "python",
   "nbconvert_exporter": "python",
   "pygments_lexer": "ipython3",
   "version": "3.5.2"
  }
 },
 "nbformat": 4,
 "nbformat_minor": 1
}
